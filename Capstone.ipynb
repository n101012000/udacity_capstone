{
 "cells": [
  {
   "cell_type": "code",
   "execution_count": 1,
   "metadata": {
    "collapsed": false
   },
   "outputs": [
    {
     "name": "stderr",
     "output_type": "stream",
     "text": [
      "Using TensorFlow backend.\n"
     ]
    }
   ],
   "source": [
    "from sklearn.datasets import load_files\n",
    "from keras.utils import np_utils\n",
    "import numpy as np\n",
    "\n",
    "def load_dataset(path):\n",
    "    data = load_files(path)\n",
    "    defect_files = np.array(data['filenames'])\n",
    "    defect_targets = np_utils.to_categorical(np.array(data['target']), 6)\n",
    "    return defect_files, defect_targets"
   ]
  },
  {
   "cell_type": "code",
   "execution_count": 2,
   "metadata": {
    "collapsed": false
   },
   "outputs": [
    {
     "name": "stdout",
     "output_type": "stream",
     "text": [
      "There are totally 1800 defect images.\n",
      "There are totally 6 defect types.\n"
     ]
    }
   ],
   "source": [
    "all_files, all_targets = load_dataset('NEU-CLS')\n",
    "print('There are totally %d defect images.' % len(all_files))\n",
    "print('There are totally 6 defect types.')"
   ]
  },
  {
   "cell_type": "code",
   "execution_count": 3,
   "metadata": {
    "collapsed": false
   },
   "outputs": [
    {
     "name": "stdout",
     "output_type": "stream",
     "text": [
      "NEU-CLS\\In\\In_97.bmp :  [ 0.  1.  0.  0.  0.  0.]\n",
      "NEU-CLS\\PS\\PS_37.bmp :  [ 0.  0.  1.  0.  0.  0.]\n",
      "NEU-CLS\\Pa\\Pa_76.bmp :  [ 0.  0.  0.  1.  0.  0.]\n",
      "NEU-CLS\\In\\In_25.bmp :  [ 0.  1.  0.  0.  0.  0.]\n",
      "NEU-CLS\\Sc\\Sc_3.bmp :  [ 0.  0.  0.  0.  0.  1.]\n",
      "NEU-CLS\\Pa\\Pa_41.bmp :  [ 0.  0.  0.  1.  0.  0.]\n",
      "NEU-CLS\\Sc\\Sc_289.bmp :  [ 0.  0.  0.  0.  0.  1.]\n",
      "NEU-CLS\\Cr\\Cr_263.bmp :  [ 1.  0.  0.  0.  0.  0.]\n",
      "NEU-CLS\\PS\\PS_98.bmp :  [ 0.  0.  1.  0.  0.  0.]\n",
      "NEU-CLS\\Sc\\Sc_40.bmp :  [ 0.  0.  0.  0.  0.  1.]\n",
      "NEU-CLS\\PS\\PS_137.bmp :  [ 0.  0.  1.  0.  0.  0.]\n",
      "NEU-CLS\\RS\\RS_278.bmp :  [ 0.  0.  0.  0.  1.  0.]\n",
      "NEU-CLS\\RS\\RS_68.bmp :  [ 0.  0.  0.  0.  1.  0.]\n",
      "NEU-CLS\\Pa\\Pa_156.bmp :  [ 0.  0.  0.  1.  0.  0.]\n",
      "NEU-CLS\\Sc\\Sc_236.bmp :  [ 0.  0.  0.  0.  0.  1.]\n",
      "NEU-CLS\\Cr\\Cr_104.bmp :  [ 1.  0.  0.  0.  0.  0.]\n",
      "NEU-CLS\\Cr\\Cr_58.bmp :  [ 1.  0.  0.  0.  0.  0.]\n",
      "NEU-CLS\\RS\\RS_109.bmp :  [ 0.  0.  0.  0.  1.  0.]\n",
      "NEU-CLS\\In\\In_268.bmp :  [ 0.  1.  0.  0.  0.  0.]\n",
      "NEU-CLS\\PS\\PS_8.bmp :  [ 0.  0.  1.  0.  0.  0.]\n"
     ]
    }
   ],
   "source": [
    "for i in range(0, 20):\n",
    "    print(all_files[i], ': ', all_targets[i])"
   ]
  },
  {
   "cell_type": "code",
   "execution_count": 4,
   "metadata": {
    "collapsed": false
   },
   "outputs": [
    {
     "name": "stdout",
     "output_type": "stream",
     "text": [
      "0 :  300\n",
      "1 :  300\n",
      "2 :  300\n",
      "3 :  300\n",
      "4 :  300\n",
      "5 :  300\n"
     ]
    },
    {
     "data": {
      "image/png": "[encoded data removed]",
      "text/plain": [
       "<matplotlib.figure.Figure at 0x1e81e615be0>"
      ]
     },
     "metadata": {},
     "output_type": "display_data"
    }
   ],
   "source": [
    "atargets = np.array(all_targets)\n",
    "atargets_number = [np.where(r==1)[0][0] for r in all_targets]\n",
    "\n",
    "numbers = []\n",
    "for i in range(0, 6):\n",
    "    print(i, ': ', atargets_number.count(i))\n",
    "    numbers.append(atargets_number.count(i))\n",
    "\n",
    "%matplotlib inline\n",
    "import matplotlib.pyplot as plt\n",
    "\n",
    "x_labels = ['Cr', 'In', 'PS', 'Pa', 'RS', 'Sc']\n",
    "x_axis = [0, 1, 2, 3, 4, 5]\n",
    "plt.bar(x_axis , numbers, align='center')\n",
    "plt.xlabel('Categories')\n",
    "plt.ylabel('# of each type of defects in NEU database')\n",
    "plt.xticks(x_axis, x_labels)\n",
    "plt.show()"
   ]
  },
  {
   "cell_type": "code",
   "execution_count": 5,
   "metadata": {
    "collapsed": false
   },
   "outputs": [
    {
     "name": "stdout",
     "output_type": "stream",
     "text": [
      "pixel intensity: 0 : avg =  106.919725 , std =  10.3733302716\n",
      "pixel intensity: 1 : avg =  203.372975 , std =  23.736917758\n",
      "pixel intensity: 2 : avg =  155.645925 , std =  56.0283687599\n",
      "pixel intensity: 3 : avg =  66.885525 , std =  10.3131164288\n",
      "pixel intensity: 4 : avg =  98.025175 , std =  15.7265966191\n",
      "pixel intensity: 5 : avg =  177.93265 , std =  70.8321276962\n",
      "pixel intensity: 6 : avg =  89.414 , std =  21.2674870166\n",
      "pixel intensity: 7 : avg =  156.312875 , std =  30.0983169668\n",
      "pixel intensity: 8 : avg =  230.253275 , std =  18.9825374166\n",
      "pixel intensity: 9 : avg =  152.562175 , std =  15.9571358417\n",
      "pixel intensity: 10 : avg =  150.34015 , std =  28.3946024444\n",
      "pixel intensity: 11 : avg =  86.15715 , std =  12.8678185361\n",
      "pixel intensity: 12 : avg =  123.3575 , std =  17.0130859561\n",
      "pixel intensity: 13 : avg =  175.26365 , std =  56.3148225486\n",
      "pixel intensity: 14 : avg =  84.738 , std =  18.0342245744\n",
      "pixel intensity: 15 : avg =  94.406475 , std =  32.9084936312\n",
      "pixel intensity: 16 : avg =  164.68185 , std =  30.8827651058\n",
      "pixel intensity: 17 : avg =  108.947325 , std =  18.9839168863\n",
      "pixel intensity: 18 : avg =  104.218425 , std =  16.1600871136\n",
      "pixel intensity: 19 : avg =  187.84685 , std =  29.4528376405\n"
     ]
    },
    {
     "data": {
      "image/png": "[encoded data removed]",
      "text/plain": [
       "<matplotlib.figure.Figure at 0x1e81e629358>"
      ]
     },
     "metadata": {},
     "output_type": "display_data"
    },
    {
     "data": {
      "image/png": "[encoded data removed]",
      "text/plain": [
       "<matplotlib.figure.Figure at 0x1e81e629390>"
      ]
     },
     "metadata": {},
     "output_type": "display_data"
    },
    {
     "name": "stdout",
     "output_type": "stream",
     "text": [
      "average pixel intensity means for all:  128.298783278\n",
      "standard deviation of pixel intensity means for all:  44.5036539505\n",
      "average pixel intensity std devs for all:  26.7068243114\n"
     ]
    }
   ],
   "source": [
    "import cv2\n",
    "\n",
    "avgPIArr = []\n",
    "stdPIArr = []\n",
    "for i in range(0, len(all_files)):\n",
    "    img = cv2.imread(all_files[i], cv2.IMREAD_GRAYSCALE)\n",
    "    \n",
    "    oneAvgPI = np.mean(img)\n",
    "    oneStdPI = np.std(img)\n",
    "    \n",
    "    if i < 20:\n",
    "        print('pixel intensity:', i, ': avg = ', oneAvgPI, ', std = ', oneStdPI)\n",
    "    \n",
    "    avgPIArr.append(oneAvgPI)\n",
    "    stdPIArr.append(oneStdPI)\n",
    "\n",
    "plt.hist(avgPIArr, color = '#00DD77')\n",
    "plt.xlabel('pixel intensity means')\n",
    "plt.ylabel('# of data in NEU database')\n",
    "plt.show()\n",
    "\n",
    "plt.hist(stdPIArr, color = '#7700BB')\n",
    "plt.xlabel('pixel intensity std devs')\n",
    "plt.ylabel('# of data in NEU database')\n",
    "plt.show()\n",
    "\n",
    "avgPI = np.mean(avgPIArr)\n",
    "stdAvgPI = np.std(avgPIArr)\n",
    "stdPI = np.mean(stdPIArr)\n",
    "print('average pixel intensity means for all: ', avgPI)\n",
    "print('standard deviation of pixel intensity means for all: ', stdAvgPI)\n",
    "print('average pixel intensity std devs for all: ', stdPI)"
   ]
  },
  {
   "cell_type": "code",
   "execution_count": 6,
   "metadata": {
    "collapsed": false
   },
   "outputs": [
    {
     "name": "stdout",
     "output_type": "stream",
     "text": [
      "There are 1440 training defect images.\n",
      "There are 360 testing defect images.\n"
     ]
    }
   ],
   "source": [
    "from sklearn.cross_validation import train_test_split\n",
    "\n",
    "all_images = []\n",
    "for file in all_files:\n",
    "    img = cv2.imread(file, cv2.IMREAD_GRAYSCALE)\n",
    "    img = cv2.cvtColor(img,cv2.COLOR_GRAY2RGB)\n",
    "    all_images.append(img)\n",
    "\n",
    "X_train, X_test, y_train, y_test = train_test_split(all_images, all_targets, test_size=0.2, random_state=42)\n",
    "print('There are %d training defect images.' % len(X_train))\n",
    "print('There are %d testing defect images.' % len(X_test))"
   ]
  },
  {
   "cell_type": "code",
   "execution_count": 7,
   "metadata": {
    "collapsed": false
   },
   "outputs": [
    {
     "name": "stdout",
     "output_type": "stream",
     "text": [
      "0 :  241\n",
      "1 :  238\n",
      "2 :  244\n",
      "3 :  237\n",
      "4 :  244\n",
      "5 :  236\n"
     ]
    },
    {
     "data": {
      "image/png": "[encoded data removed]",
      "text/plain": [
       "<matplotlib.figure.Figure at 0x1e81e6222b0>"
      ]
     },
     "metadata": {},
     "output_type": "display_data"
    },
    {
     "name": "stdout",
     "output_type": "stream",
     "text": [
      "0 :  59\n",
      "1 :  62\n",
      "2 :  56\n",
      "3 :  63\n",
      "4 :  56\n",
      "5 :  64\n"
     ]
    },
    {
     "data": {
      "image/png": "[encoded data removed]",
      "text/plain": [
       "<matplotlib.figure.Figure at 0x1e824460128>"
      ]
     },
     "metadata": {},
     "output_type": "display_data"
    }
   ],
   "source": [
    "ay_train = np.array(y_train)\n",
    "y_train_number = [np.where(r==1)[0][0] for r in ay_train]\n",
    "\n",
    "numbers = []\n",
    "for i in range(0, 6):\n",
    "    print(i, ': ', y_train_number.count(i))\n",
    "    numbers.append(y_train_number.count(i))\n",
    "\n",
    "plt.bar(x_axis, numbers, align='center', color ='#EE7700')\n",
    "plt.xlabel('Categories')\n",
    "plt.ylabel('# of each type of defects in training database')\n",
    "plt.xticks(x_axis, x_labels)\n",
    "plt.show()\n",
    "\n",
    "ay_test = np.array(y_test)\n",
    "y_test_number = [np.where(r==1)[0][0] for r in ay_test]\n",
    "\n",
    "numbers = []\n",
    "for i in range(0, 6):\n",
    "    print(i, ': ', y_test_number.count(i))\n",
    "    numbers.append(y_train_number.count(i))\n",
    "\n",
    "plt.bar(x_axis, numbers, align='center', color = 'maroon')\n",
    "plt.xlabel('Categories')\n",
    "plt.ylabel('# of each type of defects in testing database')\n",
    "plt.xticks(x_axis, x_labels)\n",
    "plt.show()"
   ]
  },
  {
   "cell_type": "code",
   "execution_count": 8,
   "metadata": {
    "collapsed": false
   },
   "outputs": [
    {
     "name": "stdout",
     "output_type": "stream",
     "text": [
      "There are 1152 validation training defect images.\n",
      "There are 288 validation testing defect images.\n"
     ]
    }
   ],
   "source": [
    "val_train_x = []\n",
    "val_train_y = []\n",
    "val_test_x = []\n",
    "val_test_y = []\n",
    "\n",
    "def validate_data(k):\n",
    "    for j in range(0, len(y_train)):\n",
    "        if (j % k) == 0:\n",
    "            val_test_x.append(X_train[j])\n",
    "            val_test_y.append(y_train[j])\n",
    "        else:\n",
    "            val_train_x.append(X_train[j])\n",
    "            val_train_y.append(y_train[j])\n",
    "\n",
    "validate_data(5)\n",
    "\n",
    "print('There are %d validation training defect images.' % len(val_train_x))\n",
    "print('There are %d validation testing defect images.' % len(val_test_x))"
   ]
  },
  {
   "cell_type": "code",
   "execution_count": 9,
   "metadata": {
    "collapsed": false
   },
   "outputs": [
    {
     "name": "stdout",
     "output_type": "stream",
     "text": [
      "0 :  188\n",
      "1 :  190\n",
      "2 :  196\n",
      "3 :  188\n",
      "4 :  199\n",
      "5 :  191\n"
     ]
    },
    {
     "data": {
      "image/png": "[encoded data removed]",
      "text/plain": [
       "<matplotlib.figure.Figure at 0x1e8243da9b0>"
      ]
     },
     "metadata": {},
     "output_type": "display_data"
    },
    {
     "name": "stdout",
     "output_type": "stream",
     "text": [
      "0 :  53\n",
      "1 :  48\n",
      "2 :  48\n",
      "3 :  49\n",
      "4 :  45\n",
      "5 :  45\n"
     ]
    },
    {
     "data": {
      "image/png": "[encoded data removed]",
      "text/plain": [
       "<matplotlib.figure.Figure at 0x1e82439b160>"
      ]
     },
     "metadata": {},
     "output_type": "display_data"
    }
   ],
   "source": [
    "colors = ['#33FFDD', '#33FFAA']\n",
    "\n",
    "aval_train_y = np.array(val_train_y)\n",
    "val_train_y_number = [np.where(r==1)[0][0] for r in aval_train_y]\n",
    "\n",
    "numbers = []\n",
    "for i in range(0, 6):\n",
    "    print(i, ': ', val_train_y_number.count(i))\n",
    "    numbers.append(val_train_y_number.count(i))\n",
    "\n",
    "plt.bar(x_axis, numbers, align='center', color = colors[0])\n",
    "plt.xlabel('Categories')\n",
    "plt.ylabel('# of each type of defects in the validation training set')\n",
    "plt.xticks(x_axis, x_labels)\n",
    "plt.show()\n",
    "\n",
    "aval_test_y = np.array(val_test_y)\n",
    "val_test_y_number = [np.where(r==1)[0][0] for r in aval_test_y]\n",
    "\n",
    "numbers = []\n",
    "for i in range(0, 6):\n",
    "    print(i, ': ', val_test_y_number.count(i))\n",
    "    numbers.append(val_test_y_number.count(i))\n",
    "\n",
    "plt.bar(x_axis, numbers, align='center', color = colors[1])\n",
    "plt.xlabel('Categories')\n",
    "plt.ylabel('# of each type of defects in the validation testing set')\n",
    "plt.xticks(x_axis, x_labels)\n",
    "plt.show()"
   ]
  },
  {
   "cell_type": "code",
   "execution_count": 10,
   "metadata": {
    "collapsed": false
   },
   "outputs": [],
   "source": [
    "from skimage.transform import resize\n",
    "\n",
    "inception_val_train_x = []\n",
    "inception_val_test_x = []\n",
    "\n",
    "def inception_validation_data():\n",
    "    for j in range(0, len(val_train_x)):\n",
    "        image_resized = resize(val_train_x[j], (224, 224, 3))\n",
    "        inception_val_train_x.append(image_resized)\n",
    "\n",
    "    for j in range(0, len(val_test_x)):\n",
    "        image_resized = resize(val_test_x[j], (224, 224, 3))\n",
    "        inception_val_test_x.append(image_resized)\n",
    "\n",
    "inception_validation_data()"
   ]
  },
  {
   "cell_type": "code",
   "execution_count": 11,
   "metadata": {
    "collapsed": false
   },
   "outputs": [
    {
     "name": "stdout",
     "output_type": "stream",
     "text": [
      "____________________________________________________________________________________________________\n",
      "Layer (type)                     Output Shape          Param #     Connected to                     \n",
      "====================================================================================================\n",
      "input_1 (InputLayer)             (None, 224, 224, 3)   0                                            \n",
      "____________________________________________________________________________________________________\n",
      "conv2d_1 (Conv2D)                (None, 111, 111, 32)  864         input_1[0][0]                    \n",
      "____________________________________________________________________________________________________\n",
      "batch_normalization_1 (BatchNorm (None, 111, 111, 32)  96          conv2d_1[0][0]                   \n",
      "____________________________________________________________________________________________________\n",
      "activation_1 (Activation)        (None, 111, 111, 32)  0           batch_normalization_1[0][0]      \n",
      "____________________________________________________________________________________________________\n",
      "conv2d_2 (Conv2D)                (None, 109, 109, 32)  9216        activation_1[0][0]               \n",
      "____________________________________________________________________________________________________\n",
      "batch_normalization_2 (BatchNorm (None, 109, 109, 32)  96          conv2d_2[0][0]                   \n",
      "____________________________________________________________________________________________________\n",
      "activation_2 (Activation)        (None, 109, 109, 32)  0           batch_normalization_2[0][0]      \n",
      "____________________________________________________________________________________________________\n",
      "conv2d_3 (Conv2D)                (None, 109, 109, 64)  18432       activation_2[0][0]               \n",
      "____________________________________________________________________________________________________\n",
      "batch_normalization_3 (BatchNorm (None, 109, 109, 64)  192         conv2d_3[0][0]                   \n",
      "____________________________________________________________________________________________________\n",
      "activation_3 (Activation)        (None, 109, 109, 64)  0           batch_normalization_3[0][0]      \n",
      "____________________________________________________________________________________________________\n",
      "max_pooling2d_1 (MaxPooling2D)   (None, 54, 54, 64)    0           activation_3[0][0]               \n",
      "____________________________________________________________________________________________________\n",
      "conv2d_4 (Conv2D)                (None, 54, 54, 80)    5120        max_pooling2d_1[0][0]            \n",
      "____________________________________________________________________________________________________\n",
      "batch_normalization_4 (BatchNorm (None, 54, 54, 80)    240         conv2d_4[0][0]                   \n",
      "____________________________________________________________________________________________________\n",
      "activation_4 (Activation)        (None, 54, 54, 80)    0           batch_normalization_4[0][0]      \n",
      "____________________________________________________________________________________________________\n",
      "conv2d_5 (Conv2D)                (None, 52, 52, 192)   138240      activation_4[0][0]               \n",
      "____________________________________________________________________________________________________\n",
      "batch_normalization_5 (BatchNorm (None, 52, 52, 192)   576         conv2d_5[0][0]                   \n",
      "____________________________________________________________________________________________________\n",
      "activation_5 (Activation)        (None, 52, 52, 192)   0           batch_normalization_5[0][0]      \n",
      "____________________________________________________________________________________________________\n",
      "max_pooling2d_2 (MaxPooling2D)   (None, 25, 25, 192)   0           activation_5[0][0]               \n",
      "____________________________________________________________________________________________________\n",
      "conv2d_9 (Conv2D)                (None, 25, 25, 64)    12288       max_pooling2d_2[0][0]            \n",
      "____________________________________________________________________________________________________\n",
      "batch_normalization_9 (BatchNorm (None, 25, 25, 64)    192         conv2d_9[0][0]                   \n",
      "____________________________________________________________________________________________________\n",
      "activation_9 (Activation)        (None, 25, 25, 64)    0           batch_normalization_9[0][0]      \n",
      "____________________________________________________________________________________________________\n",
      "conv2d_7 (Conv2D)                (None, 25, 25, 48)    9216        max_pooling2d_2[0][0]            \n",
      "____________________________________________________________________________________________________\n",
      "conv2d_10 (Conv2D)               (None, 25, 25, 96)    55296       activation_9[0][0]               \n",
      "____________________________________________________________________________________________________\n",
      "batch_normalization_7 (BatchNorm (None, 25, 25, 48)    144         conv2d_7[0][0]                   \n",
      "____________________________________________________________________________________________________\n",
      "batch_normalization_10 (BatchNor (None, 25, 25, 96)    288         conv2d_10[0][0]                  \n",
      "____________________________________________________________________________________________________\n",
      "activation_7 (Activation)        (None, 25, 25, 48)    0           batch_normalization_7[0][0]      \n",
      "____________________________________________________________________________________________________\n",
      "activation_10 (Activation)       (None, 25, 25, 96)    0           batch_normalization_10[0][0]     \n",
      "____________________________________________________________________________________________________\n",
      "average_pooling2d_1 (AveragePool (None, 25, 25, 192)   0           max_pooling2d_2[0][0]            \n",
      "____________________________________________________________________________________________________\n",
      "conv2d_6 (Conv2D)                (None, 25, 25, 64)    12288       max_pooling2d_2[0][0]            \n",
      "____________________________________________________________________________________________________\n",
      "conv2d_8 (Conv2D)                (None, 25, 25, 64)    76800       activation_7[0][0]               \n",
      "____________________________________________________________________________________________________\n",
      "conv2d_11 (Conv2D)               (None, 25, 25, 96)    82944       activation_10[0][0]              \n",
      "____________________________________________________________________________________________________\n",
      "conv2d_12 (Conv2D)               (None, 25, 25, 32)    6144        average_pooling2d_1[0][0]        \n",
      "____________________________________________________________________________________________________\n",
      "batch_normalization_6 (BatchNorm (None, 25, 25, 64)    192         conv2d_6[0][0]                   \n",
      "____________________________________________________________________________________________________\n",
      "batch_normalization_8 (BatchNorm (None, 25, 25, 64)    192         conv2d_8[0][0]                   \n",
      "____________________________________________________________________________________________________\n",
      "batch_normalization_11 (BatchNor (None, 25, 25, 96)    288         conv2d_11[0][0]                  \n",
      "____________________________________________________________________________________________________\n",
      "batch_normalization_12 (BatchNor (None, 25, 25, 32)    96          conv2d_12[0][0]                  \n",
      "____________________________________________________________________________________________________\n",
      "activation_6 (Activation)        (None, 25, 25, 64)    0           batch_normalization_6[0][0]      \n",
      "____________________________________________________________________________________________________\n",
      "activation_8 (Activation)        (None, 25, 25, 64)    0           batch_normalization_8[0][0]      \n",
      "____________________________________________________________________________________________________\n",
      "activation_11 (Activation)       (None, 25, 25, 96)    0           batch_normalization_11[0][0]     \n",
      "____________________________________________________________________________________________________\n",
      "activation_12 (Activation)       (None, 25, 25, 32)    0           batch_normalization_12[0][0]     \n",
      "____________________________________________________________________________________________________\n",
      "mixed0 (Concatenate)             (None, 25, 25, 256)   0           activation_6[0][0]               \n",
      "                                                                   activation_8[0][0]               \n",
      "                                                                   activation_11[0][0]              \n",
      "                                                                   activation_12[0][0]              \n",
      "____________________________________________________________________________________________________\n",
      "conv2d_16 (Conv2D)               (None, 25, 25, 64)    16384       mixed0[0][0]                     \n",
      "____________________________________________________________________________________________________\n",
      "batch_normalization_16 (BatchNor (None, 25, 25, 64)    192         conv2d_16[0][0]                  \n",
      "____________________________________________________________________________________________________\n",
      "activation_16 (Activation)       (None, 25, 25, 64)    0           batch_normalization_16[0][0]     \n",
      "____________________________________________________________________________________________________\n",
      "conv2d_14 (Conv2D)               (None, 25, 25, 48)    12288       mixed0[0][0]                     \n",
      "____________________________________________________________________________________________________\n",
      "conv2d_17 (Conv2D)               (None, 25, 25, 96)    55296       activation_16[0][0]              \n",
      "____________________________________________________________________________________________________\n",
      "batch_normalization_14 (BatchNor (None, 25, 25, 48)    144         conv2d_14[0][0]                  \n",
      "____________________________________________________________________________________________________\n",
      "batch_normalization_17 (BatchNor (None, 25, 25, 96)    288         conv2d_17[0][0]                  \n",
      "____________________________________________________________________________________________________\n",
      "activation_14 (Activation)       (None, 25, 25, 48)    0           batch_normalization_14[0][0]     \n",
      "____________________________________________________________________________________________________\n",
      "activation_17 (Activation)       (None, 25, 25, 96)    0           batch_normalization_17[0][0]     \n",
      "____________________________________________________________________________________________________\n",
      "average_pooling2d_2 (AveragePool (None, 25, 25, 256)   0           mixed0[0][0]                     \n",
      "____________________________________________________________________________________________________\n",
      "conv2d_13 (Conv2D)               (None, 25, 25, 64)    16384       mixed0[0][0]                     \n",
      "____________________________________________________________________________________________________\n",
      "conv2d_15 (Conv2D)               (None, 25, 25, 64)    76800       activation_14[0][0]              \n",
      "____________________________________________________________________________________________________\n",
      "conv2d_18 (Conv2D)               (None, 25, 25, 96)    82944       activation_17[0][0]              \n",
      "____________________________________________________________________________________________________\n",
      "conv2d_19 (Conv2D)               (None, 25, 25, 64)    16384       average_pooling2d_2[0][0]        \n",
      "____________________________________________________________________________________________________\n",
      "batch_normalization_13 (BatchNor (None, 25, 25, 64)    192         conv2d_13[0][0]                  \n",
      "____________________________________________________________________________________________________\n",
      "batch_normalization_15 (BatchNor (None, 25, 25, 64)    192         conv2d_15[0][0]                  \n",
      "____________________________________________________________________________________________________\n",
      "batch_normalization_18 (BatchNor (None, 25, 25, 96)    288         conv2d_18[0][0]                  \n",
      "____________________________________________________________________________________________________\n",
      "batch_normalization_19 (BatchNor (None, 25, 25, 64)    192         conv2d_19[0][0]                  \n",
      "____________________________________________________________________________________________________\n",
      "activation_13 (Activation)       (None, 25, 25, 64)    0           batch_normalization_13[0][0]     \n",
      "____________________________________________________________________________________________________\n",
      "activation_15 (Activation)       (None, 25, 25, 64)    0           batch_normalization_15[0][0]     \n",
      "____________________________________________________________________________________________________\n",
      "activation_18 (Activation)       (None, 25, 25, 96)    0           batch_normalization_18[0][0]     \n",
      "____________________________________________________________________________________________________\n",
      "activation_19 (Activation)       (None, 25, 25, 64)    0           batch_normalization_19[0][0]     \n",
      "____________________________________________________________________________________________________\n",
      "mixed1 (Concatenate)             (None, 25, 25, 288)   0           activation_13[0][0]              \n",
      "                                                                   activation_15[0][0]              \n",
      "                                                                   activation_18[0][0]              \n",
      "                                                                   activation_19[0][0]              \n",
      "____________________________________________________________________________________________________\n",
      "conv2d_23 (Conv2D)               (None, 25, 25, 64)    18432       mixed1[0][0]                     \n",
      "____________________________________________________________________________________________________\n",
      "batch_normalization_23 (BatchNor (None, 25, 25, 64)    192         conv2d_23[0][0]                  \n",
      "____________________________________________________________________________________________________\n",
      "activation_23 (Activation)       (None, 25, 25, 64)    0           batch_normalization_23[0][0]     \n",
      "____________________________________________________________________________________________________\n",
      "conv2d_21 (Conv2D)               (None, 25, 25, 48)    13824       mixed1[0][0]                     \n",
      "____________________________________________________________________________________________________\n",
      "conv2d_24 (Conv2D)               (None, 25, 25, 96)    55296       activation_23[0][0]              \n",
      "____________________________________________________________________________________________________\n",
      "batch_normalization_21 (BatchNor (None, 25, 25, 48)    144         conv2d_21[0][0]                  \n",
      "____________________________________________________________________________________________________\n",
      "batch_normalization_24 (BatchNor (None, 25, 25, 96)    288         conv2d_24[0][0]                  \n",
      "____________________________________________________________________________________________________\n",
      "activation_21 (Activation)       (None, 25, 25, 48)    0           batch_normalization_21[0][0]     \n",
      "____________________________________________________________________________________________________\n",
      "activation_24 (Activation)       (None, 25, 25, 96)    0           batch_normalization_24[0][0]     \n",
      "____________________________________________________________________________________________________\n",
      "average_pooling2d_3 (AveragePool (None, 25, 25, 288)   0           mixed1[0][0]                     \n",
      "____________________________________________________________________________________________________\n",
      "conv2d_20 (Conv2D)               (None, 25, 25, 64)    18432       mixed1[0][0]                     \n",
      "____________________________________________________________________________________________________\n",
      "conv2d_22 (Conv2D)               (None, 25, 25, 64)    76800       activation_21[0][0]              \n",
      "____________________________________________________________________________________________________\n",
      "conv2d_25 (Conv2D)               (None, 25, 25, 96)    82944       activation_24[0][0]              \n",
      "____________________________________________________________________________________________________\n",
      "conv2d_26 (Conv2D)               (None, 25, 25, 64)    18432       average_pooling2d_3[0][0]        \n",
      "____________________________________________________________________________________________________\n",
      "batch_normalization_20 (BatchNor (None, 25, 25, 64)    192         conv2d_20[0][0]                  \n",
      "____________________________________________________________________________________________________\n",
      "batch_normalization_22 (BatchNor (None, 25, 25, 64)    192         conv2d_22[0][0]                  \n",
      "____________________________________________________________________________________________________\n",
      "batch_normalization_25 (BatchNor (None, 25, 25, 96)    288         conv2d_25[0][0]                  \n",
      "____________________________________________________________________________________________________\n",
      "batch_normalization_26 (BatchNor (None, 25, 25, 64)    192         conv2d_26[0][0]                  \n",
      "____________________________________________________________________________________________________\n",
      "activation_20 (Activation)       (None, 25, 25, 64)    0           batch_normalization_20[0][0]     \n",
      "____________________________________________________________________________________________________\n",
      "activation_22 (Activation)       (None, 25, 25, 64)    0           batch_normalization_22[0][0]     \n",
      "____________________________________________________________________________________________________\n",
      "activation_25 (Activation)       (None, 25, 25, 96)    0           batch_normalization_25[0][0]     \n",
      "____________________________________________________________________________________________________\n",
      "activation_26 (Activation)       (None, 25, 25, 64)    0           batch_normalization_26[0][0]     \n",
      "____________________________________________________________________________________________________\n",
      "mixed2 (Concatenate)             (None, 25, 25, 288)   0           activation_20[0][0]              \n",
      "                                                                   activation_22[0][0]              \n",
      "                                                                   activation_25[0][0]              \n",
      "                                                                   activation_26[0][0]              \n",
      "____________________________________________________________________________________________________\n",
      "conv2d_28 (Conv2D)               (None, 25, 25, 64)    18432       mixed2[0][0]                     \n",
      "____________________________________________________________________________________________________\n",
      "batch_normalization_28 (BatchNor (None, 25, 25, 64)    192         conv2d_28[0][0]                  \n",
      "____________________________________________________________________________________________________\n",
      "activation_28 (Activation)       (None, 25, 25, 64)    0           batch_normalization_28[0][0]     \n",
      "____________________________________________________________________________________________________\n",
      "conv2d_29 (Conv2D)               (None, 25, 25, 96)    55296       activation_28[0][0]              \n",
      "____________________________________________________________________________________________________\n",
      "batch_normalization_29 (BatchNor (None, 25, 25, 96)    288         conv2d_29[0][0]                  \n",
      "____________________________________________________________________________________________________\n",
      "activation_29 (Activation)       (None, 25, 25, 96)    0           batch_normalization_29[0][0]     \n",
      "____________________________________________________________________________________________________\n",
      "conv2d_27 (Conv2D)               (None, 12, 12, 384)   995328      mixed2[0][0]                     \n",
      "____________________________________________________________________________________________________\n",
      "conv2d_30 (Conv2D)               (None, 12, 12, 96)    82944       activation_29[0][0]              \n",
      "____________________________________________________________________________________________________\n",
      "batch_normalization_27 (BatchNor (None, 12, 12, 384)   1152        conv2d_27[0][0]                  \n",
      "____________________________________________________________________________________________________\n",
      "batch_normalization_30 (BatchNor (None, 12, 12, 96)    288         conv2d_30[0][0]                  \n",
      "____________________________________________________________________________________________________\n",
      "activation_27 (Activation)       (None, 12, 12, 384)   0           batch_normalization_27[0][0]     \n",
      "____________________________________________________________________________________________________\n",
      "activation_30 (Activation)       (None, 12, 12, 96)    0           batch_normalization_30[0][0]     \n",
      "____________________________________________________________________________________________________\n",
      "max_pooling2d_3 (MaxPooling2D)   (None, 12, 12, 288)   0           mixed2[0][0]                     \n",
      "____________________________________________________________________________________________________\n",
      "mixed3 (Concatenate)             (None, 12, 12, 768)   0           activation_27[0][0]              \n",
      "                                                                   activation_30[0][0]              \n",
      "                                                                   max_pooling2d_3[0][0]            \n",
      "____________________________________________________________________________________________________\n",
      "conv2d_35 (Conv2D)               (None, 12, 12, 128)   98304       mixed3[0][0]                     \n",
      "____________________________________________________________________________________________________\n",
      "batch_normalization_35 (BatchNor (None, 12, 12, 128)   384         conv2d_35[0][0]                  \n",
      "____________________________________________________________________________________________________\n",
      "activation_35 (Activation)       (None, 12, 12, 128)   0           batch_normalization_35[0][0]     \n",
      "____________________________________________________________________________________________________\n",
      "conv2d_36 (Conv2D)               (None, 12, 12, 128)   114688      activation_35[0][0]              \n",
      "____________________________________________________________________________________________________\n",
      "batch_normalization_36 (BatchNor (None, 12, 12, 128)   384         conv2d_36[0][0]                  \n",
      "____________________________________________________________________________________________________\n",
      "activation_36 (Activation)       (None, 12, 12, 128)   0           batch_normalization_36[0][0]     \n",
      "____________________________________________________________________________________________________\n",
      "conv2d_32 (Conv2D)               (None, 12, 12, 128)   98304       mixed3[0][0]                     \n",
      "____________________________________________________________________________________________________\n",
      "conv2d_37 (Conv2D)               (None, 12, 12, 128)   114688      activation_36[0][0]              \n",
      "____________________________________________________________________________________________________\n",
      "batch_normalization_32 (BatchNor (None, 12, 12, 128)   384         conv2d_32[0][0]                  \n",
      "____________________________________________________________________________________________________\n",
      "batch_normalization_37 (BatchNor (None, 12, 12, 128)   384         conv2d_37[0][0]                  \n",
      "____________________________________________________________________________________________________\n",
      "activation_32 (Activation)       (None, 12, 12, 128)   0           batch_normalization_32[0][0]     \n",
      "____________________________________________________________________________________________________\n",
      "activation_37 (Activation)       (None, 12, 12, 128)   0           batch_normalization_37[0][0]     \n",
      "____________________________________________________________________________________________________\n",
      "conv2d_33 (Conv2D)               (None, 12, 12, 128)   114688      activation_32[0][0]              \n",
      "____________________________________________________________________________________________________\n",
      "conv2d_38 (Conv2D)               (None, 12, 12, 128)   114688      activation_37[0][0]              \n",
      "____________________________________________________________________________________________________\n",
      "batch_normalization_33 (BatchNor (None, 12, 12, 128)   384         conv2d_33[0][0]                  \n",
      "____________________________________________________________________________________________________\n",
      "batch_normalization_38 (BatchNor (None, 12, 12, 128)   384         conv2d_38[0][0]                  \n",
      "____________________________________________________________________________________________________\n",
      "activation_33 (Activation)       (None, 12, 12, 128)   0           batch_normalization_33[0][0]     \n",
      "____________________________________________________________________________________________________\n",
      "activation_38 (Activation)       (None, 12, 12, 128)   0           batch_normalization_38[0][0]     \n",
      "____________________________________________________________________________________________________\n",
      "average_pooling2d_4 (AveragePool (None, 12, 12, 768)   0           mixed3[0][0]                     \n",
      "____________________________________________________________________________________________________\n",
      "conv2d_31 (Conv2D)               (None, 12, 12, 192)   147456      mixed3[0][0]                     \n",
      "____________________________________________________________________________________________________\n",
      "conv2d_34 (Conv2D)               (None, 12, 12, 192)   172032      activation_33[0][0]              \n",
      "____________________________________________________________________________________________________\n",
      "conv2d_39 (Conv2D)               (None, 12, 12, 192)   172032      activation_38[0][0]              \n",
      "____________________________________________________________________________________________________\n",
      "conv2d_40 (Conv2D)               (None, 12, 12, 192)   147456      average_pooling2d_4[0][0]        \n",
      "____________________________________________________________________________________________________\n",
      "batch_normalization_31 (BatchNor (None, 12, 12, 192)   576         conv2d_31[0][0]                  \n",
      "____________________________________________________________________________________________________\n",
      "batch_normalization_34 (BatchNor (None, 12, 12, 192)   576         conv2d_34[0][0]                  \n",
      "____________________________________________________________________________________________________\n",
      "batch_normalization_39 (BatchNor (None, 12, 12, 192)   576         conv2d_39[0][0]                  \n",
      "____________________________________________________________________________________________________\n",
      "batch_normalization_40 (BatchNor (None, 12, 12, 192)   576         conv2d_40[0][0]                  \n",
      "____________________________________________________________________________________________________\n",
      "activation_31 (Activation)       (None, 12, 12, 192)   0           batch_normalization_31[0][0]     \n",
      "____________________________________________________________________________________________________\n",
      "activation_34 (Activation)       (None, 12, 12, 192)   0           batch_normalization_34[0][0]     \n",
      "____________________________________________________________________________________________________\n",
      "activation_39 (Activation)       (None, 12, 12, 192)   0           batch_normalization_39[0][0]     \n",
      "____________________________________________________________________________________________________\n",
      "activation_40 (Activation)       (None, 12, 12, 192)   0           batch_normalization_40[0][0]     \n",
      "____________________________________________________________________________________________________\n",
      "mixed4 (Concatenate)             (None, 12, 12, 768)   0           activation_31[0][0]              \n",
      "                                                                   activation_34[0][0]              \n",
      "                                                                   activation_39[0][0]              \n",
      "                                                                   activation_40[0][0]              \n",
      "____________________________________________________________________________________________________\n",
      "conv2d_45 (Conv2D)               (None, 12, 12, 160)   122880      mixed4[0][0]                     \n",
      "____________________________________________________________________________________________________\n",
      "batch_normalization_45 (BatchNor (None, 12, 12, 160)   480         conv2d_45[0][0]                  \n",
      "____________________________________________________________________________________________________\n",
      "activation_45 (Activation)       (None, 12, 12, 160)   0           batch_normalization_45[0][0]     \n",
      "____________________________________________________________________________________________________\n",
      "conv2d_46 (Conv2D)               (None, 12, 12, 160)   179200      activation_45[0][0]              \n",
      "____________________________________________________________________________________________________\n",
      "batch_normalization_46 (BatchNor (None, 12, 12, 160)   480         conv2d_46[0][0]                  \n",
      "____________________________________________________________________________________________________\n",
      "activation_46 (Activation)       (None, 12, 12, 160)   0           batch_normalization_46[0][0]     \n",
      "____________________________________________________________________________________________________\n",
      "conv2d_42 (Conv2D)               (None, 12, 12, 160)   122880      mixed4[0][0]                     \n",
      "____________________________________________________________________________________________________\n",
      "conv2d_47 (Conv2D)               (None, 12, 12, 160)   179200      activation_46[0][0]              \n",
      "____________________________________________________________________________________________________\n",
      "batch_normalization_42 (BatchNor (None, 12, 12, 160)   480         conv2d_42[0][0]                  \n",
      "____________________________________________________________________________________________________\n",
      "batch_normalization_47 (BatchNor (None, 12, 12, 160)   480         conv2d_47[0][0]                  \n",
      "____________________________________________________________________________________________________\n",
      "activation_42 (Activation)       (None, 12, 12, 160)   0           batch_normalization_42[0][0]     \n",
      "____________________________________________________________________________________________________\n",
      "activation_47 (Activation)       (None, 12, 12, 160)   0           batch_normalization_47[0][0]     \n",
      "____________________________________________________________________________________________________\n",
      "conv2d_43 (Conv2D)               (None, 12, 12, 160)   179200      activation_42[0][0]              \n",
      "____________________________________________________________________________________________________\n",
      "conv2d_48 (Conv2D)               (None, 12, 12, 160)   179200      activation_47[0][0]              \n",
      "____________________________________________________________________________________________________\n",
      "batch_normalization_43 (BatchNor (None, 12, 12, 160)   480         conv2d_43[0][0]                  \n",
      "____________________________________________________________________________________________________\n",
      "batch_normalization_48 (BatchNor (None, 12, 12, 160)   480         conv2d_48[0][0]                  \n",
      "____________________________________________________________________________________________________\n",
      "activation_43 (Activation)       (None, 12, 12, 160)   0           batch_normalization_43[0][0]     \n",
      "____________________________________________________________________________________________________\n",
      "activation_48 (Activation)       (None, 12, 12, 160)   0           batch_normalization_48[0][0]     \n",
      "____________________________________________________________________________________________________\n",
      "average_pooling2d_5 (AveragePool (None, 12, 12, 768)   0           mixed4[0][0]                     \n",
      "____________________________________________________________________________________________________\n",
      "conv2d_41 (Conv2D)               (None, 12, 12, 192)   147456      mixed4[0][0]                     \n",
      "____________________________________________________________________________________________________\n",
      "conv2d_44 (Conv2D)               (None, 12, 12, 192)   215040      activation_43[0][0]              \n",
      "____________________________________________________________________________________________________\n",
      "conv2d_49 (Conv2D)               (None, 12, 12, 192)   215040      activation_48[0][0]              \n",
      "____________________________________________________________________________________________________\n",
      "conv2d_50 (Conv2D)               (None, 12, 12, 192)   147456      average_pooling2d_5[0][0]        \n",
      "____________________________________________________________________________________________________\n",
      "batch_normalization_41 (BatchNor (None, 12, 12, 192)   576         conv2d_41[0][0]                  \n",
      "____________________________________________________________________________________________________\n",
      "batch_normalization_44 (BatchNor (None, 12, 12, 192)   576         conv2d_44[0][0]                  \n",
      "____________________________________________________________________________________________________\n",
      "batch_normalization_49 (BatchNor (None, 12, 12, 192)   576         conv2d_49[0][0]                  \n",
      "____________________________________________________________________________________________________\n",
      "batch_normalization_50 (BatchNor (None, 12, 12, 192)   576         conv2d_50[0][0]                  \n",
      "____________________________________________________________________________________________________\n",
      "activation_41 (Activation)       (None, 12, 12, 192)   0           batch_normalization_41[0][0]     \n",
      "____________________________________________________________________________________________________\n",
      "activation_44 (Activation)       (None, 12, 12, 192)   0           batch_normalization_44[0][0]     \n",
      "____________________________________________________________________________________________________\n",
      "activation_49 (Activation)       (None, 12, 12, 192)   0           batch_normalization_49[0][0]     \n",
      "____________________________________________________________________________________________________\n",
      "activation_50 (Activation)       (None, 12, 12, 192)   0           batch_normalization_50[0][0]     \n",
      "____________________________________________________________________________________________________\n",
      "mixed5 (Concatenate)             (None, 12, 12, 768)   0           activation_41[0][0]              \n",
      "                                                                   activation_44[0][0]              \n",
      "                                                                   activation_49[0][0]              \n",
      "                                                                   activation_50[0][0]              \n",
      "____________________________________________________________________________________________________\n",
      "conv2d_55 (Conv2D)               (None, 12, 12, 160)   122880      mixed5[0][0]                     \n",
      "____________________________________________________________________________________________________\n",
      "batch_normalization_55 (BatchNor (None, 12, 12, 160)   480         conv2d_55[0][0]                  \n",
      "____________________________________________________________________________________________________\n",
      "activation_55 (Activation)       (None, 12, 12, 160)   0           batch_normalization_55[0][0]     \n",
      "____________________________________________________________________________________________________\n",
      "conv2d_56 (Conv2D)               (None, 12, 12, 160)   179200      activation_55[0][0]              \n",
      "____________________________________________________________________________________________________\n",
      "batch_normalization_56 (BatchNor (None, 12, 12, 160)   480         conv2d_56[0][0]                  \n",
      "____________________________________________________________________________________________________\n",
      "activation_56 (Activation)       (None, 12, 12, 160)   0           batch_normalization_56[0][0]     \n",
      "____________________________________________________________________________________________________\n",
      "conv2d_52 (Conv2D)               (None, 12, 12, 160)   122880      mixed5[0][0]                     \n",
      "____________________________________________________________________________________________________\n",
      "conv2d_57 (Conv2D)               (None, 12, 12, 160)   179200      activation_56[0][0]              \n",
      "____________________________________________________________________________________________________\n",
      "batch_normalization_52 (BatchNor (None, 12, 12, 160)   480         conv2d_52[0][0]                  \n",
      "____________________________________________________________________________________________________\n",
      "batch_normalization_57 (BatchNor (None, 12, 12, 160)   480         conv2d_57[0][0]                  \n",
      "____________________________________________________________________________________________________\n",
      "activation_52 (Activation)       (None, 12, 12, 160)   0           batch_normalization_52[0][0]     \n",
      "____________________________________________________________________________________________________\n",
      "activation_57 (Activation)       (None, 12, 12, 160)   0           batch_normalization_57[0][0]     \n",
      "____________________________________________________________________________________________________\n",
      "conv2d_53 (Conv2D)               (None, 12, 12, 160)   179200      activation_52[0][0]              \n",
      "____________________________________________________________________________________________________\n",
      "conv2d_58 (Conv2D)               (None, 12, 12, 160)   179200      activation_57[0][0]              \n",
      "____________________________________________________________________________________________________\n",
      "batch_normalization_53 (BatchNor (None, 12, 12, 160)   480         conv2d_53[0][0]                  \n",
      "____________________________________________________________________________________________________\n",
      "batch_normalization_58 (BatchNor (None, 12, 12, 160)   480         conv2d_58[0][0]                  \n",
      "____________________________________________________________________________________________________\n",
      "activation_53 (Activation)       (None, 12, 12, 160)   0           batch_normalization_53[0][0]     \n",
      "____________________________________________________________________________________________________\n",
      "activation_58 (Activation)       (None, 12, 12, 160)   0           batch_normalization_58[0][0]     \n",
      "____________________________________________________________________________________________________\n",
      "average_pooling2d_6 (AveragePool (None, 12, 12, 768)   0           mixed5[0][0]                     \n",
      "____________________________________________________________________________________________________\n",
      "conv2d_51 (Conv2D)               (None, 12, 12, 192)   147456      mixed5[0][0]                     \n",
      "____________________________________________________________________________________________________\n",
      "conv2d_54 (Conv2D)               (None, 12, 12, 192)   215040      activation_53[0][0]              \n",
      "____________________________________________________________________________________________________\n",
      "conv2d_59 (Conv2D)               (None, 12, 12, 192)   215040      activation_58[0][0]              \n",
      "____________________________________________________________________________________________________\n",
      "conv2d_60 (Conv2D)               (None, 12, 12, 192)   147456      average_pooling2d_6[0][0]        \n",
      "____________________________________________________________________________________________________\n",
      "batch_normalization_51 (BatchNor (None, 12, 12, 192)   576         conv2d_51[0][0]                  \n",
      "____________________________________________________________________________________________________\n",
      "batch_normalization_54 (BatchNor (None, 12, 12, 192)   576         conv2d_54[0][0]                  \n",
      "____________________________________________________________________________________________________\n",
      "batch_normalization_59 (BatchNor (None, 12, 12, 192)   576         conv2d_59[0][0]                  \n",
      "____________________________________________________________________________________________________\n",
      "batch_normalization_60 (BatchNor (None, 12, 12, 192)   576         conv2d_60[0][0]                  \n",
      "____________________________________________________________________________________________________\n",
      "activation_51 (Activation)       (None, 12, 12, 192)   0           batch_normalization_51[0][0]     \n",
      "____________________________________________________________________________________________________\n",
      "activation_54 (Activation)       (None, 12, 12, 192)   0           batch_normalization_54[0][0]     \n",
      "____________________________________________________________________________________________________\n",
      "activation_59 (Activation)       (None, 12, 12, 192)   0           batch_normalization_59[0][0]     \n",
      "____________________________________________________________________________________________________\n",
      "activation_60 (Activation)       (None, 12, 12, 192)   0           batch_normalization_60[0][0]     \n",
      "____________________________________________________________________________________________________\n",
      "mixed6 (Concatenate)             (None, 12, 12, 768)   0           activation_51[0][0]              \n",
      "                                                                   activation_54[0][0]              \n",
      "                                                                   activation_59[0][0]              \n",
      "                                                                   activation_60[0][0]              \n",
      "____________________________________________________________________________________________________\n",
      "conv2d_65 (Conv2D)               (None, 12, 12, 192)   147456      mixed6[0][0]                     \n",
      "____________________________________________________________________________________________________\n",
      "batch_normalization_65 (BatchNor (None, 12, 12, 192)   576         conv2d_65[0][0]                  \n",
      "____________________________________________________________________________________________________\n",
      "activation_65 (Activation)       (None, 12, 12, 192)   0           batch_normalization_65[0][0]     \n",
      "____________________________________________________________________________________________________\n",
      "conv2d_66 (Conv2D)               (None, 12, 12, 192)   258048      activation_65[0][0]              \n",
      "____________________________________________________________________________________________________\n",
      "batch_normalization_66 (BatchNor (None, 12, 12, 192)   576         conv2d_66[0][0]                  \n",
      "____________________________________________________________________________________________________\n",
      "activation_66 (Activation)       (None, 12, 12, 192)   0           batch_normalization_66[0][0]     \n",
      "____________________________________________________________________________________________________\n",
      "conv2d_62 (Conv2D)               (None, 12, 12, 192)   147456      mixed6[0][0]                     \n",
      "____________________________________________________________________________________________________\n",
      "conv2d_67 (Conv2D)               (None, 12, 12, 192)   258048      activation_66[0][0]              \n",
      "____________________________________________________________________________________________________\n",
      "batch_normalization_62 (BatchNor (None, 12, 12, 192)   576         conv2d_62[0][0]                  \n",
      "____________________________________________________________________________________________________\n",
      "batch_normalization_67 (BatchNor (None, 12, 12, 192)   576         conv2d_67[0][0]                  \n",
      "____________________________________________________________________________________________________\n",
      "activation_62 (Activation)       (None, 12, 12, 192)   0           batch_normalization_62[0][0]     \n",
      "____________________________________________________________________________________________________\n",
      "activation_67 (Activation)       (None, 12, 12, 192)   0           batch_normalization_67[0][0]     \n",
      "____________________________________________________________________________________________________\n",
      "conv2d_63 (Conv2D)               (None, 12, 12, 192)   258048      activation_62[0][0]              \n",
      "____________________________________________________________________________________________________\n",
      "conv2d_68 (Conv2D)               (None, 12, 12, 192)   258048      activation_67[0][0]              \n",
      "____________________________________________________________________________________________________\n",
      "batch_normalization_63 (BatchNor (None, 12, 12, 192)   576         conv2d_63[0][0]                  \n",
      "____________________________________________________________________________________________________\n",
      "batch_normalization_68 (BatchNor (None, 12, 12, 192)   576         conv2d_68[0][0]                  \n",
      "____________________________________________________________________________________________________\n",
      "activation_63 (Activation)       (None, 12, 12, 192)   0           batch_normalization_63[0][0]     \n",
      "____________________________________________________________________________________________________\n",
      "activation_68 (Activation)       (None, 12, 12, 192)   0           batch_normalization_68[0][0]     \n",
      "____________________________________________________________________________________________________\n",
      "average_pooling2d_7 (AveragePool (None, 12, 12, 768)   0           mixed6[0][0]                     \n",
      "____________________________________________________________________________________________________\n",
      "conv2d_61 (Conv2D)               (None, 12, 12, 192)   147456      mixed6[0][0]                     \n",
      "____________________________________________________________________________________________________\n",
      "conv2d_64 (Conv2D)               (None, 12, 12, 192)   258048      activation_63[0][0]              \n",
      "____________________________________________________________________________________________________\n",
      "conv2d_69 (Conv2D)               (None, 12, 12, 192)   258048      activation_68[0][0]              \n",
      "____________________________________________________________________________________________________\n",
      "conv2d_70 (Conv2D)               (None, 12, 12, 192)   147456      average_pooling2d_7[0][0]        \n",
      "____________________________________________________________________________________________________\n",
      "batch_normalization_61 (BatchNor (None, 12, 12, 192)   576         conv2d_61[0][0]                  \n",
      "____________________________________________________________________________________________________\n",
      "batch_normalization_64 (BatchNor (None, 12, 12, 192)   576         conv2d_64[0][0]                  \n",
      "____________________________________________________________________________________________________\n",
      "batch_normalization_69 (BatchNor (None, 12, 12, 192)   576         conv2d_69[0][0]                  \n",
      "____________________________________________________________________________________________________\n",
      "batch_normalization_70 (BatchNor (None, 12, 12, 192)   576         conv2d_70[0][0]                  \n",
      "____________________________________________________________________________________________________\n",
      "activation_61 (Activation)       (None, 12, 12, 192)   0           batch_normalization_61[0][0]     \n",
      "____________________________________________________________________________________________________\n",
      "activation_64 (Activation)       (None, 12, 12, 192)   0           batch_normalization_64[0][0]     \n",
      "____________________________________________________________________________________________________\n",
      "activation_69 (Activation)       (None, 12, 12, 192)   0           batch_normalization_69[0][0]     \n",
      "____________________________________________________________________________________________________\n",
      "activation_70 (Activation)       (None, 12, 12, 192)   0           batch_normalization_70[0][0]     \n",
      "____________________________________________________________________________________________________\n",
      "mixed7 (Concatenate)             (None, 12, 12, 768)   0           activation_61[0][0]              \n",
      "                                                                   activation_64[0][0]              \n",
      "                                                                   activation_69[0][0]              \n",
      "                                                                   activation_70[0][0]              \n",
      "____________________________________________________________________________________________________\n",
      "conv2d_73 (Conv2D)               (None, 12, 12, 192)   147456      mixed7[0][0]                     \n",
      "____________________________________________________________________________________________________\n",
      "batch_normalization_73 (BatchNor (None, 12, 12, 192)   576         conv2d_73[0][0]                  \n",
      "____________________________________________________________________________________________________\n",
      "activation_73 (Activation)       (None, 12, 12, 192)   0           batch_normalization_73[0][0]     \n",
      "____________________________________________________________________________________________________\n",
      "conv2d_74 (Conv2D)               (None, 12, 12, 192)   258048      activation_73[0][0]              \n",
      "____________________________________________________________________________________________________\n",
      "batch_normalization_74 (BatchNor (None, 12, 12, 192)   576         conv2d_74[0][0]                  \n",
      "____________________________________________________________________________________________________\n",
      "activation_74 (Activation)       (None, 12, 12, 192)   0           batch_normalization_74[0][0]     \n",
      "____________________________________________________________________________________________________\n",
      "conv2d_71 (Conv2D)               (None, 12, 12, 192)   147456      mixed7[0][0]                     \n",
      "____________________________________________________________________________________________________\n",
      "conv2d_75 (Conv2D)               (None, 12, 12, 192)   258048      activation_74[0][0]              \n",
      "____________________________________________________________________________________________________\n",
      "batch_normalization_71 (BatchNor (None, 12, 12, 192)   576         conv2d_71[0][0]                  \n",
      "____________________________________________________________________________________________________\n",
      "batch_normalization_75 (BatchNor (None, 12, 12, 192)   576         conv2d_75[0][0]                  \n",
      "____________________________________________________________________________________________________\n",
      "activation_71 (Activation)       (None, 12, 12, 192)   0           batch_normalization_71[0][0]     \n",
      "____________________________________________________________________________________________________\n",
      "activation_75 (Activation)       (None, 12, 12, 192)   0           batch_normalization_75[0][0]     \n",
      "____________________________________________________________________________________________________\n",
      "conv2d_72 (Conv2D)               (None, 5, 5, 320)     552960      activation_71[0][0]              \n",
      "____________________________________________________________________________________________________\n",
      "conv2d_76 (Conv2D)               (None, 5, 5, 192)     331776      activation_75[0][0]              \n",
      "____________________________________________________________________________________________________\n",
      "batch_normalization_72 (BatchNor (None, 5, 5, 320)     960         conv2d_72[0][0]                  \n",
      "____________________________________________________________________________________________________\n",
      "batch_normalization_76 (BatchNor (None, 5, 5, 192)     576         conv2d_76[0][0]                  \n",
      "____________________________________________________________________________________________________\n",
      "activation_72 (Activation)       (None, 5, 5, 320)     0           batch_normalization_72[0][0]     \n",
      "____________________________________________________________________________________________________\n",
      "activation_76 (Activation)       (None, 5, 5, 192)     0           batch_normalization_76[0][0]     \n",
      "____________________________________________________________________________________________________\n",
      "max_pooling2d_4 (MaxPooling2D)   (None, 5, 5, 768)     0           mixed7[0][0]                     \n",
      "____________________________________________________________________________________________________\n",
      "mixed8 (Concatenate)             (None, 5, 5, 1280)    0           activation_72[0][0]              \n",
      "                                                                   activation_76[0][0]              \n",
      "                                                                   max_pooling2d_4[0][0]            \n",
      "____________________________________________________________________________________________________\n",
      "conv2d_81 (Conv2D)               (None, 5, 5, 448)     573440      mixed8[0][0]                     \n",
      "____________________________________________________________________________________________________\n",
      "batch_normalization_81 (BatchNor (None, 5, 5, 448)     1344        conv2d_81[0][0]                  \n",
      "____________________________________________________________________________________________________\n",
      "activation_81 (Activation)       (None, 5, 5, 448)     0           batch_normalization_81[0][0]     \n",
      "____________________________________________________________________________________________________\n",
      "conv2d_78 (Conv2D)               (None, 5, 5, 384)     491520      mixed8[0][0]                     \n",
      "____________________________________________________________________________________________________\n",
      "conv2d_82 (Conv2D)               (None, 5, 5, 384)     1548288     activation_81[0][0]              \n",
      "____________________________________________________________________________________________________\n",
      "batch_normalization_78 (BatchNor (None, 5, 5, 384)     1152        conv2d_78[0][0]                  \n",
      "____________________________________________________________________________________________________\n",
      "batch_normalization_82 (BatchNor (None, 5, 5, 384)     1152        conv2d_82[0][0]                  \n",
      "____________________________________________________________________________________________________\n",
      "activation_78 (Activation)       (None, 5, 5, 384)     0           batch_normalization_78[0][0]     \n",
      "____________________________________________________________________________________________________\n",
      "activation_82 (Activation)       (None, 5, 5, 384)     0           batch_normalization_82[0][0]     \n",
      "____________________________________________________________________________________________________\n",
      "conv2d_79 (Conv2D)               (None, 5, 5, 384)     442368      activation_78[0][0]              \n",
      "____________________________________________________________________________________________________\n",
      "conv2d_80 (Conv2D)               (None, 5, 5, 384)     442368      activation_78[0][0]              \n",
      "____________________________________________________________________________________________________\n",
      "conv2d_83 (Conv2D)               (None, 5, 5, 384)     442368      activation_82[0][0]              \n",
      "____________________________________________________________________________________________________\n",
      "conv2d_84 (Conv2D)               (None, 5, 5, 384)     442368      activation_82[0][0]              \n",
      "____________________________________________________________________________________________________\n",
      "average_pooling2d_8 (AveragePool (None, 5, 5, 1280)    0           mixed8[0][0]                     \n",
      "____________________________________________________________________________________________________\n",
      "conv2d_77 (Conv2D)               (None, 5, 5, 320)     409600      mixed8[0][0]                     \n",
      "____________________________________________________________________________________________________\n",
      "batch_normalization_79 (BatchNor (None, 5, 5, 384)     1152        conv2d_79[0][0]                  \n",
      "____________________________________________________________________________________________________\n",
      "batch_normalization_80 (BatchNor (None, 5, 5, 384)     1152        conv2d_80[0][0]                  \n",
      "____________________________________________________________________________________________________\n",
      "batch_normalization_83 (BatchNor (None, 5, 5, 384)     1152        conv2d_83[0][0]                  \n",
      "____________________________________________________________________________________________________\n",
      "batch_normalization_84 (BatchNor (None, 5, 5, 384)     1152        conv2d_84[0][0]                  \n",
      "____________________________________________________________________________________________________\n",
      "conv2d_85 (Conv2D)               (None, 5, 5, 192)     245760      average_pooling2d_8[0][0]        \n",
      "____________________________________________________________________________________________________\n",
      "batch_normalization_77 (BatchNor (None, 5, 5, 320)     960         conv2d_77[0][0]                  \n",
      "____________________________________________________________________________________________________\n",
      "activation_79 (Activation)       (None, 5, 5, 384)     0           batch_normalization_79[0][0]     \n",
      "____________________________________________________________________________________________________\n",
      "activation_80 (Activation)       (None, 5, 5, 384)     0           batch_normalization_80[0][0]     \n",
      "____________________________________________________________________________________________________\n",
      "activation_83 (Activation)       (None, 5, 5, 384)     0           batch_normalization_83[0][0]     \n",
      "____________________________________________________________________________________________________\n",
      "activation_84 (Activation)       (None, 5, 5, 384)     0           batch_normalization_84[0][0]     \n",
      "____________________________________________________________________________________________________\n",
      "batch_normalization_85 (BatchNor (None, 5, 5, 192)     576         conv2d_85[0][0]                  \n",
      "____________________________________________________________________________________________________\n",
      "activation_77 (Activation)       (None, 5, 5, 320)     0           batch_normalization_77[0][0]     \n",
      "____________________________________________________________________________________________________\n",
      "mixed9_0 (Concatenate)           (None, 5, 5, 768)     0           activation_79[0][0]              \n",
      "                                                                   activation_80[0][0]              \n",
      "____________________________________________________________________________________________________\n",
      "concatenate_1 (Concatenate)      (None, 5, 5, 768)     0           activation_83[0][0]              \n",
      "                                                                   activation_84[0][0]              \n",
      "____________________________________________________________________________________________________\n",
      "activation_85 (Activation)       (None, 5, 5, 192)     0           batch_normalization_85[0][0]     \n",
      "____________________________________________________________________________________________________\n",
      "mixed9 (Concatenate)             (None, 5, 5, 2048)    0           activation_77[0][0]              \n",
      "                                                                   mixed9_0[0][0]                   \n",
      "                                                                   concatenate_1[0][0]              \n",
      "                                                                   activation_85[0][0]              \n",
      "____________________________________________________________________________________________________\n",
      "conv2d_90 (Conv2D)               (None, 5, 5, 448)     917504      mixed9[0][0]                     \n",
      "____________________________________________________________________________________________________\n",
      "batch_normalization_90 (BatchNor (None, 5, 5, 448)     1344        conv2d_90[0][0]                  \n",
      "____________________________________________________________________________________________________\n",
      "activation_90 (Activation)       (None, 5, 5, 448)     0           batch_normalization_90[0][0]     \n",
      "____________________________________________________________________________________________________\n",
      "conv2d_87 (Conv2D)               (None, 5, 5, 384)     786432      mixed9[0][0]                     \n",
      "____________________________________________________________________________________________________\n",
      "conv2d_91 (Conv2D)               (None, 5, 5, 384)     1548288     activation_90[0][0]              \n",
      "____________________________________________________________________________________________________\n",
      "batch_normalization_87 (BatchNor (None, 5, 5, 384)     1152        conv2d_87[0][0]                  \n",
      "____________________________________________________________________________________________________\n",
      "batch_normalization_91 (BatchNor (None, 5, 5, 384)     1152        conv2d_91[0][0]                  \n",
      "____________________________________________________________________________________________________\n",
      "activation_87 (Activation)       (None, 5, 5, 384)     0           batch_normalization_87[0][0]     \n",
      "____________________________________________________________________________________________________\n",
      "activation_91 (Activation)       (None, 5, 5, 384)     0           batch_normalization_91[0][0]     \n",
      "____________________________________________________________________________________________________\n",
      "conv2d_88 (Conv2D)               (None, 5, 5, 384)     442368      activation_87[0][0]              \n",
      "____________________________________________________________________________________________________\n",
      "conv2d_89 (Conv2D)               (None, 5, 5, 384)     442368      activation_87[0][0]              \n",
      "____________________________________________________________________________________________________\n",
      "conv2d_92 (Conv2D)               (None, 5, 5, 384)     442368      activation_91[0][0]              \n",
      "____________________________________________________________________________________________________\n",
      "conv2d_93 (Conv2D)               (None, 5, 5, 384)     442368      activation_91[0][0]              \n",
      "____________________________________________________________________________________________________\n",
      "average_pooling2d_9 (AveragePool (None, 5, 5, 2048)    0           mixed9[0][0]                     \n",
      "____________________________________________________________________________________________________\n",
      "conv2d_86 (Conv2D)               (None, 5, 5, 320)     655360      mixed9[0][0]                     \n",
      "____________________________________________________________________________________________________\n",
      "batch_normalization_88 (BatchNor (None, 5, 5, 384)     1152        conv2d_88[0][0]                  \n",
      "____________________________________________________________________________________________________\n",
      "batch_normalization_89 (BatchNor (None, 5, 5, 384)     1152        conv2d_89[0][0]                  \n",
      "____________________________________________________________________________________________________\n",
      "batch_normalization_92 (BatchNor (None, 5, 5, 384)     1152        conv2d_92[0][0]                  \n",
      "____________________________________________________________________________________________________\n",
      "batch_normalization_93 (BatchNor (None, 5, 5, 384)     1152        conv2d_93[0][0]                  \n",
      "____________________________________________________________________________________________________\n",
      "conv2d_94 (Conv2D)               (None, 5, 5, 192)     393216      average_pooling2d_9[0][0]        \n",
      "____________________________________________________________________________________________________\n",
      "batch_normalization_86 (BatchNor (None, 5, 5, 320)     960         conv2d_86[0][0]                  \n",
      "____________________________________________________________________________________________________\n",
      "activation_88 (Activation)       (None, 5, 5, 384)     0           batch_normalization_88[0][0]     \n",
      "____________________________________________________________________________________________________\n",
      "activation_89 (Activation)       (None, 5, 5, 384)     0           batch_normalization_89[0][0]     \n",
      "____________________________________________________________________________________________________\n",
      "activation_92 (Activation)       (None, 5, 5, 384)     0           batch_normalization_92[0][0]     \n",
      "____________________________________________________________________________________________________\n",
      "activation_93 (Activation)       (None, 5, 5, 384)     0           batch_normalization_93[0][0]     \n",
      "____________________________________________________________________________________________________\n",
      "batch_normalization_94 (BatchNor (None, 5, 5, 192)     576         conv2d_94[0][0]                  \n",
      "____________________________________________________________________________________________________\n",
      "activation_86 (Activation)       (None, 5, 5, 320)     0           batch_normalization_86[0][0]     \n",
      "____________________________________________________________________________________________________\n",
      "mixed9_1 (Concatenate)           (None, 5, 5, 768)     0           activation_88[0][0]              \n",
      "                                                                   activation_89[0][0]              \n",
      "____________________________________________________________________________________________________\n",
      "concatenate_2 (Concatenate)      (None, 5, 5, 768)     0           activation_92[0][0]              \n",
      "                                                                   activation_93[0][0]              \n",
      "____________________________________________________________________________________________________\n",
      "activation_94 (Activation)       (None, 5, 5, 192)     0           batch_normalization_94[0][0]     \n",
      "____________________________________________________________________________________________________\n",
      "mixed10 (Concatenate)            (None, 5, 5, 2048)    0           activation_86[0][0]              \n",
      "                                                                   mixed9_1[0][0]                   \n",
      "                                                                   concatenate_2[0][0]              \n",
      "                                                                   activation_94[0][0]              \n",
      "____________________________________________________________________________________________________\n",
      "global_average_pooling2d_1 (Glob (None, 2048)          0           mixed10[0][0]                    \n",
      "____________________________________________________________________________________________________\n",
      "dense_1 (Dense)                  (None, 1024)          2098176     global_average_pooling2d_1[0][0] \n",
      "____________________________________________________________________________________________________\n",
      "dense_2 (Dense)                  (None, 6)             6150        dense_1[0][0]                    \n",
      "====================================================================================================\n",
      "Total params: 23,907,110\n",
      "Trainable params: 23,872,678\n",
      "Non-trainable params: 34,432\n",
      "____________________________________________________________________________________________________\n"
     ]
    }
   ],
   "source": [
    "from keras.applications.inception_v3 import InceptionV3\n",
    "from keras.models import Model\n",
    "from keras.layers import Dense, GlobalAveragePooling2D\n",
    "from keras.layers import Input\n",
    "\n",
    "input_tensor = Input(shape=(224, 224, 3))\n",
    "base_model = InceptionV3(input_tensor = input_tensor, weights='imagenet', include_top=False)\n",
    "x = base_model.output\n",
    "x = GlobalAveragePooling2D()(x)\n",
    "x = Dense(1024, activation='relu')(x)\n",
    "predictions = Dense(6, activation='softmax')(x)\n",
    "\n",
    "model = Model(inputs=base_model.input, outputs=predictions)\n",
    "model.summary()\n",
    "\n",
    "for layer in base_model.layers:\n",
    "    layer.trainable = False\n",
    "\n",
    "model.compile(optimizer='rmsprop', loss='categorical_crossentropy', metrics=['accuracy'])"
   ]
  },
  {
   "cell_type": "code",
   "execution_count": 396,
   "metadata": {
    "collapsed": false
   },
   "outputs": [
    {
     "name": "stdout",
     "output_type": "stream",
     "text": [
      "(1152, 224, 224, 3)\n",
      "(1152, 6)\n",
      "(288, 224, 224, 3)\n",
      "(288, 6)\n",
      "Train on 1152 samples, validate on 288 samples\n",
      "Epoch 1/10\n",
      "1150/1152 [============================>.] - ETA: 1s - loss: 4.3889 - acc: 0.4383 Epoch 00000: val_loss improved from inf to 5.39341, saving model to saved_model/weights.best.inception.hdf5\n",
      "1152/1152 [==============================] - 842s - loss: 4.3827 - acc: 0.4392 - val_loss: 5.3934 - val_acc: 0.2569\n",
      "Epoch 2/10\n",
      "1150/1152 [============================>.] - ETA: 1s - loss: 0.9082 - acc: 0.7461 Epoch 00001: val_loss improved from 5.39341 to 1.57133, saving model to saved_model/weights.best.inception.hdf5\n",
      "1152/1152 [==============================] - 789s - loss: 0.9067 - acc: 0.7465 - val_loss: 1.5713 - val_acc: 0.4097\n",
      "Epoch 3/10\n",
      "1150/1152 [============================>.] - ETA: 1s - loss: 0.6656 - acc: 0.8235 Epoch 00002: val_loss did not improve\n",
      "1152/1152 [==============================] - 784s - loss: 0.6680 - acc: 0.8229 - val_loss: 9.6272 - val_acc: 0.1563\n",
      "Epoch 4/10\n",
      "1150/1152 [============================>.] - ETA: 1s - loss: 0.6082 - acc: 0.9035 Epoch 00003: val_loss did not improve\n",
      "1152/1152 [==============================] - 787s - loss: 0.6119 - acc: 0.9019 - val_loss: 7.0901 - val_acc: 0.2882\n",
      "Epoch 5/10\n",
      "1150/1152 [============================>.] - ETA: 1s - loss: 0.7442 - acc: 0.8470 Epoch 00004: val_loss did not improve\n",
      "1152/1152 [==============================] - 775s - loss: 0.7503 - acc: 0.8455 - val_loss: 7.1953 - val_acc: 0.2951\n",
      "Epoch 6/10\n",
      "1150/1152 [============================>.] - ETA: 1s - loss: 0.4774 - acc: 0.9078 Epoch 00005: val_loss did not improve\n",
      "1152/1152 [==============================] - 774s - loss: 0.4784 - acc: 0.9071 - val_loss: 6.2894 - val_acc: 0.2118\n",
      "Epoch 7/10\n",
      "1150/1152 [============================>.] - ETA: 1s - loss: 0.6780 - acc: 0.8678 Epoch 00006: val_loss did not improve\n",
      "1152/1152 [==============================] - 764s - loss: 0.6794 - acc: 0.8672 - val_loss: 7.5736 - val_acc: 0.1701\n",
      "Epoch 8/10\n",
      "1150/1152 [============================>.] - ETA: 1s - loss: 0.4462 - acc: 0.9122 Epoch 00007: val_loss did not improve\n",
      "1152/1152 [==============================] - 765s - loss: 0.4467 - acc: 0.9115 - val_loss: 6.0977 - val_acc: 0.2813\n",
      "Epoch 9/10\n",
      "1150/1152 [============================>.] - ETA: 1s - loss: 0.4346 - acc: 0.9278 Epoch 00008: val_loss did not improve\n",
      "1152/1152 [==============================] - 768s - loss: 0.4351 - acc: 0.9271 - val_loss: 5.6989 - val_acc: 0.3021\n",
      "Epoch 10/10\n",
      "1150/1152 [============================>.] - ETA: 1s - loss: 0.6214 - acc: 0.9096 Epoch 00009: val_loss did not improve\n",
      "1152/1152 [==============================] - 763s - loss: 0.6222 - acc: 0.9089 - val_loss: 7.9324 - val_acc: 0.2778\n"
     ]
    },
    {
     "data": {
      "text/plain": [
       "<keras.callbacks.History at 0x1a3f08bb940>"
      ]
     },
     "execution_count": 396,
     "metadata": {},
     "output_type": "execute_result"
    }
   ],
   "source": [
    "from keras.callbacks import ModelCheckpoint  \n",
    "\n",
    "checkpointer = ModelCheckpoint(filepath='saved_model/weights.best.inception.hdf5', \n",
    "                               verbose=1, save_best_only=True)\n",
    "\n",
    "print(np.shape(inception_val_train_x))\n",
    "print(np.shape(val_train_y))\n",
    "print(np.shape(inception_val_test_x))\n",
    "print(np.shape(val_test_y))\n",
    "model.fit(np.array(inception_val_train_x), np.array(val_train_y), \n",
    "          validation_data=(np.array(inception_val_test_x), np.array(val_test_y)),\n",
    "          epochs=10, batch_size=50, callbacks=[checkpointer], verbose=1)"
   ]
  },
  {
   "cell_type": "code",
   "execution_count": 400,
   "metadata": {
    "collapsed": false
   },
   "outputs": [
    {
     "name": "stdout",
     "output_type": "stream",
     "text": [
      "Epoch 1/10\n",
      "35/36 [============================>.] - ETA: 17s - loss: 3.4697 - acc: 0.4509Epoch 00000: val_loss did not improve\n",
      "36/36 [==============================] - 798s - loss: 3.4151 - acc: 0.4514 - val_loss: 2.5140 - val_acc: 0.3194\n",
      "Epoch 2/10\n",
      "35/36 [============================>.] - ETA: 16s - loss: 0.8637 - acc: 0.7152Epoch 00001: val_loss did not improve\n",
      "36/36 [==============================] - 769s - loss: 0.8822 - acc: 0.7127 - val_loss: 2.5341 - val_acc: 0.3160\n",
      "Epoch 3/10\n",
      "35/36 [============================>.] - ETA: 16s - loss: 0.7316 - acc: 0.7741Epoch 00002: val_loss improved from 1.57133 to 1.35108, saving model to saved_model/weights.best.inception.hdf5\n",
      "36/36 [==============================] - 832s - loss: 0.7189 - acc: 0.7769 - val_loss: 1.3511 - val_acc: 0.5069\n",
      "Epoch 4/10\n",
      "35/36 [============================>.] - ETA: 16s - loss: 0.5396 - acc: 0.8152Epoch 00003: val_loss did not improve\n",
      "36/36 [==============================] - 766s - loss: 0.5406 - acc: 0.8168 - val_loss: 1.7117 - val_acc: 0.4444\n",
      "Epoch 5/10\n",
      "35/36 [============================>.] - ETA: 16s - loss: 0.6322 - acc: 0.8187Epoch 00004: val_loss did not improve\n",
      "36/36 [==============================] - 769s - loss: 0.6362 - acc: 0.8151 - val_loss: 2.1351 - val_acc: 0.4549\n",
      "Epoch 6/10\n",
      "35/36 [============================>.] - ETA: 16s - loss: 0.3282 - acc: 0.8875Epoch 00005: val_loss improved from 1.35108 to 1.24170, saving model to saved_model/weights.best.inception.hdf5\n",
      "36/36 [==============================] - 767s - loss: 0.3292 - acc: 0.8880 - val_loss: 1.2417 - val_acc: 0.5660\n",
      "Epoch 7/10\n",
      "35/36 [============================>.] - ETA: 16s - loss: 0.4503 - acc: 0.8625Epoch 00006: val_loss improved from 1.24170 to 0.82021, saving model to saved_model/weights.best.inception.hdf5\n",
      "36/36 [==============================] - 769s - loss: 0.4409 - acc: 0.8655 - val_loss: 0.8202 - val_acc: 0.7014\n",
      "Epoch 8/10\n",
      "35/36 [============================>.] - ETA: 16s - loss: 0.3383 - acc: 0.8857Epoch 00007: val_loss did not improve\n",
      "36/36 [==============================] - 770s - loss: 0.3580 - acc: 0.8811 - val_loss: 1.9464 - val_acc: 0.5069\n",
      "Epoch 9/10\n",
      "35/36 [============================>.] - ETA: 16s - loss: 0.3146 - acc: 0.9000Epoch 00008: val_loss did not improve\n",
      "36/36 [==============================] - 771s - loss: 0.3435 - acc: 0.8958 - val_loss: 1.5933 - val_acc: 0.5278\n",
      "Epoch 10/10\n",
      "35/36 [============================>.] - ETA: 16s - loss: 0.2991 - acc: 0.9045Epoch 00009: val_loss did not improve\n",
      "36/36 [==============================] - 768s - loss: 0.2931 - acc: 0.9071 - val_loss: 1.3124 - val_acc: 0.5486\n"
     ]
    },
    {
     "data": {
      "text/plain": [
       "<keras.callbacks.History at 0x1a3dc35cb00>"
      ]
     },
     "execution_count": 400,
     "metadata": {},
     "output_type": "execute_result"
    }
   ],
   "source": [
    "inception_datagen = ImageDataGenerator(\n",
    "    rotation_range=40,\n",
    "    width_shift_range=0.2,\n",
    "    height_shift_range=0.2,\n",
    "    horizontal_flip=True,\n",
    "    fill_mode='nearest')\n",
    "\n",
    "inception_datagen.fit(np.array(inception_val_train_x))\n",
    "\n",
    "model.fit_generator(inception_datagen.flow(np.array(inception_val_train_x), np.array(val_train_y), batch_size=32),\n",
    "                    validation_data=(np.array(inception_val_test_x), np.array(val_test_y)),\n",
    "                    steps_per_epoch=np.array(inception_val_train_x).shape[0]/32, epochs=10, callbacks=[checkpointer], verbose=1)"
   ]
  },
  {
   "cell_type": "code",
   "execution_count": 401,
   "metadata": {
    "collapsed": false
   },
   "outputs": [
    {
     "name": "stdout",
     "output_type": "stream",
     "text": [
      "Test accuracy: 76.1111%\n"
     ]
    }
   ],
   "source": [
    "model.load_weights('saved_model/weights.best.inception.hdf5')\n",
    "\n",
    "inception_test_x = []\n",
    "for i in range(0, len(X_test)):\n",
    "    image_resized = resize(X_test[i], (224, 224, 3))\n",
    "    inception_test_x.append(image_resized)\n",
    "\n",
    "inception_predictions = [np.argmax(model.predict(np.expand_dims(feature, axis=0))) for feature in inception_test_x]\n",
    "\n",
    "test_accuracy = 100*np.sum(np.array(inception_predictions)==np.argmax(y_test, axis=1))/len(inception_predictions)\n",
    "print('Test accuracy: %.4f%%' % test_accuracy)"
   ]
  },
  {
   "cell_type": "code",
   "execution_count": 12,
   "metadata": {
    "collapsed": false
   },
   "outputs": [
    {
     "name": "stdout",
     "output_type": "stream",
     "text": [
      "_________________________________________________________________\n",
      "Layer (type)                 Output Shape              Param #   \n",
      "=================================================================\n",
      "conv2d_95 (Conv2D)           (None, 198, 198, 128)     3584      \n",
      "_________________________________________________________________\n",
      "activation_95 (Activation)   (None, 198, 198, 128)     0         \n",
      "_________________________________________________________________\n",
      "max_pooling2d_5 (MaxPooling2 (None, 99, 99, 128)       0         \n",
      "_________________________________________________________________\n",
      "conv2d_96 (Conv2D)           (None, 97, 97, 64)        73792     \n",
      "_________________________________________________________________\n",
      "activation_96 (Activation)   (None, 97, 97, 64)        0         \n",
      "_________________________________________________________________\n",
      "max_pooling2d_6 (MaxPooling2 (None, 49, 49, 64)        0         \n",
      "_________________________________________________________________\n",
      "conv2d_97 (Conv2D)           (None, 47, 47, 32)        18464     \n",
      "_________________________________________________________________\n",
      "activation_97 (Activation)   (None, 47, 47, 32)        0         \n",
      "_________________________________________________________________\n",
      "max_pooling2d_7 (MaxPooling2 (None, 24, 24, 32)        0         \n",
      "_________________________________________________________________\n",
      "conv2d_98 (Conv2D)           (None, 22, 22, 16)        4624      \n",
      "_________________________________________________________________\n",
      "activation_98 (Activation)   (None, 22, 22, 16)        0         \n",
      "_________________________________________________________________\n",
      "max_pooling2d_8 (MaxPooling2 (None, 11, 11, 16)        0         \n",
      "_________________________________________________________________\n",
      "global_average_pooling2d_2 ( (None, 16)                0         \n",
      "_________________________________________________________________\n",
      "dense_3 (Dense)              (None, 1024)              17408     \n",
      "_________________________________________________________________\n",
      "dropout_1 (Dropout)          (None, 1024)              0         \n",
      "_________________________________________________________________\n",
      "dense_4 (Dense)              (None, 6)                 6150      \n",
      "_________________________________________________________________\n",
      "activation_99 (Activation)   (None, 6)                 0         \n",
      "=================================================================\n",
      "Total params: 124,022\n",
      "Trainable params: 124,022\n",
      "Non-trainable params: 0\n",
      "_________________________________________________________________\n"
     ]
    }
   ],
   "source": [
    "from keras.layers import Conv2D, MaxPooling2D, GlobalAveragePooling2D, Activation\n",
    "from keras.layers import Dropout, Flatten, Dense\n",
    "from keras.layers.normalization import BatchNormalization\n",
    "from keras.models import Sequential\n",
    "\n",
    "cnn_model_all = Sequential()\n",
    "\n",
    "cnn_model_all.add(Conv2D(filters = 128, kernel_size = (3,3), input_shape = (200, 200, 3)))\n",
    "cnn_model_all.add(Activation(\"relu\"))\n",
    "cnn_model_all.add(MaxPooling2D(pool_size=(2, 2), strides=(2,2), padding='same'))\n",
    "\n",
    "cnn_model_all.add(Conv2D(filters = 64, kernel_size = (3,3)))\n",
    "cnn_model_all.add(Activation(\"relu\"))\n",
    "cnn_model_all.add(MaxPooling2D(pool_size=(2, 2), strides=(2,2), padding='same'))\n",
    "\n",
    "cnn_model_all.add(Conv2D(filters = 32, kernel_size = (3,3)))\n",
    "cnn_model_all.add(Activation(\"relu\"))\n",
    "cnn_model_all.add(MaxPooling2D(pool_size=(2, 2), strides=(2,2), padding='same'))\n",
    "\n",
    "cnn_model_all.add(Conv2D(filters = 16, kernel_size = (3,3)))\n",
    "cnn_model_all.add(Activation(\"relu\"))\n",
    "cnn_model_all.add(MaxPooling2D(pool_size=(2, 2), strides=(2,2), padding='same'))\n",
    "\n",
    "cnn_model_all.add(GlobalAveragePooling2D())\n",
    "cnn_model_all.add(Dense(1024, activation='relu'))\n",
    "cnn_model_all.add(Dropout(0.2))\n",
    "\n",
    "cnn_model_all.add(Dense(6))\n",
    "cnn_model_all.add(Activation(\"softmax\"))\n",
    "cnn_model_all.summary()"
   ]
  },
  {
   "cell_type": "code",
   "execution_count": 393,
   "metadata": {
    "collapsed": false
   },
   "outputs": [
    {
     "name": "stdout",
     "output_type": "stream",
     "text": [
      "Train on 1152 samples, validate on 288 samples\n",
      "Epoch 1/10\n",
      "1120/1152 [============================>.] - ETA: 13s - loss: 2.4888 - acc: 0.1982Epoch 00000: val_loss improved from inf to 2.23164, saving model to saved_model/weights.best.own_cnn.hdf5\n",
      "1152/1152 [==============================] - 527s - loss: 2.4685 - acc: 0.1988 - val_loss: 2.2316 - val_acc: 0.1840\n",
      "Epoch 2/10\n",
      "1120/1152 [============================>.] - ETA: 13s - loss: 1.7046 - acc: 0.3045Epoch 00001: val_loss improved from 2.23164 to 1.38186, saving model to saved_model/weights.best.own_cnn.hdf5\n",
      "1152/1152 [==============================] - 544s - loss: 1.6982 - acc: 0.3099 - val_loss: 1.3819 - val_acc: 0.3958\n",
      "Epoch 3/10\n",
      "1120/1152 [============================>.] - ETA: 13s - loss: 1.9950 - acc: 0.3741Epoch 00002: val_loss did not improve\n",
      "1152/1152 [==============================] - 514s - loss: 1.9793 - acc: 0.3733 - val_loss: 1.4171 - val_acc: 0.4028\n",
      "Epoch 4/10\n",
      "1120/1152 [============================>.] - ETA: 13s - loss: 1.8585 - acc: 0.3732Epoch 00003: val_loss did not improve\n",
      "1152/1152 [==============================] - 510s - loss: 1.8392 - acc: 0.3802 - val_loss: 1.4091 - val_acc: 0.3958\n",
      "Epoch 5/10\n",
      "1120/1152 [============================>.] - ETA: 13s - loss: 1.5682 - acc: 0.3759Epoch 00004: val_loss improved from 1.38186 to 1.36403, saving model to saved_model/weights.best.own_cnn.hdf5\n",
      "1152/1152 [==============================] - 513s - loss: 1.5604 - acc: 0.3767 - val_loss: 1.3640 - val_acc: 0.3715\n",
      "Epoch 6/10\n",
      "1120/1152 [============================>.] - ETA: 13s - loss: 5.5855 - acc: 0.3036Epoch 00005: val_loss did not improve\n",
      "1152/1152 [==============================] - 512s - loss: 5.8062 - acc: 0.2995 - val_loss: 12.3984 - val_acc: 0.2153\n",
      "Epoch 7/10\n",
      "1120/1152 [============================>.] - ETA: 13s - loss: 2.4207 - acc: 0.3652Epoch 00006: val_loss improved from 1.36403 to 1.36193, saving model to saved_model/weights.best.own_cnn.hdf5\n",
      "1152/1152 [==============================] - 514s - loss: 2.3856 - acc: 0.3689 - val_loss: 1.3619 - val_acc: 0.3958\n",
      "Epoch 8/10\n",
      "1120/1152 [============================>.] - ETA: 13s - loss: 11.0346 - acc: 0.2107Epoch 00007: val_loss did not improve\n",
      "1152/1152 [==============================] - 517s - loss: 11.1618 - acc: 0.2057 - val_loss: 13.5996 - val_acc: 0.1562\n",
      "Epoch 9/10\n",
      "1120/1152 [============================>.] - ETA: 13s - loss: 13.4557 - acc: 0.1652Epoch 00008: val_loss did not improve\n",
      "1152/1152 [==============================] - 517s - loss: 13.4457 - acc: 0.1658 - val_loss: 13.5996 - val_acc: 0.1562\n",
      "Epoch 10/10\n",
      "1120/1152 [============================>.] - ETA: 13s - loss: 13.4845 - acc: 0.1634Epoch 00009: val_loss did not improve\n",
      "1152/1152 [==============================] - 515s - loss: 13.4457 - acc: 0.1658 - val_loss: 13.5996 - val_acc: 0.1562\n"
     ]
    },
    {
     "data": {
      "text/plain": [
       "<keras.callbacks.History at 0x1a3e4d6bd68>"
      ]
     },
     "execution_count": 393,
     "metadata": {},
     "output_type": "execute_result"
    }
   ],
   "source": [
    "cnn_model_all.compile(loss='categorical_crossentropy', optimizer='rmsprop', metrics=['accuracy'])\n",
    "\n",
    "checkpointer = ModelCheckpoint(filepath='saved_model/weights.best.own_cnn.hdf5', \n",
    "                               verbose=1, save_best_only=True)\n",
    "\n",
    "cnn_model_all.fit(np.array(val_train_x), np.array(val_train_y), \n",
    "          validation_data=(np.array(val_test_x), np.array(val_test_y)),\n",
    "          epochs=10, batch_size=32, callbacks=[checkpointer], verbose=1)"
   ]
  },
  {
   "cell_type": "code",
   "execution_count": 394,
   "metadata": {
    "collapsed": false
   },
   "outputs": [
    {
     "name": "stdout",
     "output_type": "stream",
     "text": [
      "Test accuracy: 17.7778%\n"
     ]
    }
   ],
   "source": [
    "cnn_model_all.save_weights(\"saved_model/weights.best.own_cnn.hdf5\")\n",
    "\n",
    "predictions = [np.argmax(cnn_model_all.predict(np.expand_dims(feature, axis=0))) for feature in X_test]\n",
    "\n",
    "test_accuracy = 100*np.sum(np.array(predictions)==np.argmax(y_test, axis=1))/len(predictions)\n",
    "print('Test accuracy: %.4f%%' % test_accuracy)"
   ]
  },
  {
   "cell_type": "code",
   "execution_count": 13,
   "metadata": {
    "collapsed": false
   },
   "outputs": [
    {
     "name": "stdout",
     "output_type": "stream",
     "text": [
      "_________________________________________________________________\n",
      "Layer (type)                 Output Shape              Param #   \n",
      "=================================================================\n",
      "conv2d_99 (Conv2D)           (None, 38, 38, 128)       3584      \n",
      "_________________________________________________________________\n",
      "activation_100 (Activation)  (None, 38, 38, 128)       0         \n",
      "_________________________________________________________________\n",
      "max_pooling2d_9 (MaxPooling2 (None, 19, 19, 128)       0         \n",
      "_________________________________________________________________\n",
      "conv2d_100 (Conv2D)          (None, 17, 17, 64)        73792     \n",
      "_________________________________________________________________\n",
      "activation_101 (Activation)  (None, 17, 17, 64)        0         \n",
      "_________________________________________________________________\n",
      "max_pooling2d_10 (MaxPooling (None, 9, 9, 64)          0         \n",
      "_________________________________________________________________\n",
      "conv2d_101 (Conv2D)          (None, 7, 7, 32)          18464     \n",
      "_________________________________________________________________\n",
      "activation_102 (Activation)  (None, 7, 7, 32)          0         \n",
      "_________________________________________________________________\n",
      "max_pooling2d_11 (MaxPooling (None, 4, 4, 32)          0         \n",
      "_________________________________________________________________\n",
      "conv2d_102 (Conv2D)          (None, 2, 2, 16)          4624      \n",
      "_________________________________________________________________\n",
      "activation_103 (Activation)  (None, 2, 2, 16)          0         \n",
      "_________________________________________________________________\n",
      "max_pooling2d_12 (MaxPooling (None, 1, 1, 16)          0         \n",
      "_________________________________________________________________\n",
      "global_average_pooling2d_3 ( (None, 16)                0         \n",
      "_________________________________________________________________\n",
      "dense_5 (Dense)              (None, 1024)              17408     \n",
      "_________________________________________________________________\n",
      "dropout_2 (Dropout)          (None, 1024)              0         \n",
      "_________________________________________________________________\n",
      "dense_6 (Dense)              (None, 6)                 6150      \n",
      "_________________________________________________________________\n",
      "activation_104 (Activation)  (None, 6)                 0         \n",
      "=================================================================\n",
      "Total params: 124,022\n",
      "Trainable params: 124,022\n",
      "Non-trainable params: 0\n",
      "_________________________________________________________________\n"
     ]
    }
   ],
   "source": [
    "cnn_model = Sequential()\n",
    "\n",
    "cnn_model.add(Conv2D(filters = 128, kernel_size = (3,3), input_shape = (40, 40, 3)))\n",
    "cnn_model.add(Activation(\"relu\"))\n",
    "cnn_model.add(MaxPooling2D(pool_size=(2, 2), strides=(2,2), padding='same'))\n",
    "\n",
    "cnn_model.add(Conv2D(filters = 64, kernel_size = (3,3)))\n",
    "cnn_model.add(Activation(\"relu\"))\n",
    "cnn_model.add(MaxPooling2D(pool_size=(2, 2), strides=(2,2), padding='same'))\n",
    "\n",
    "cnn_model.add(Conv2D(filters = 32, kernel_size = (3,3)))\n",
    "cnn_model.add(Activation(\"relu\"))\n",
    "cnn_model.add(MaxPooling2D(pool_size=(2, 2), strides=(2,2), padding='same'))\n",
    "\n",
    "cnn_model.add(Conv2D(filters = 16, kernel_size = (3,3)))\n",
    "cnn_model.add(Activation(\"relu\"))\n",
    "cnn_model.add(MaxPooling2D(pool_size=(2, 2), strides=(2,2), padding='same'))\n",
    "\n",
    "cnn_model.add(GlobalAveragePooling2D())\n",
    "cnn_model.add(Dense(1024, activation='relu'))\n",
    "cnn_model.add(Dropout(0.2))\n",
    "\n",
    "cnn_model.add(Dense(6))\n",
    "cnn_model.add(Activation(\"softmax\"))\n",
    "cnn_model.summary()"
   ]
  },
  {
   "cell_type": "code",
   "execution_count": 371,
   "metadata": {
    "collapsed": true
   },
   "outputs": [],
   "source": [
    "cnn_model.compile(loss='categorical_crossentropy', optimizer='rmsprop', metrics=['accuracy'])\n",
    "\n",
    "checkpointer = ModelCheckpoint(filepath='saved_model/weights.best.own_cnn_resize.hdf5', \n",
    "                               verbose=1, save_best_only=True)"
   ]
  },
  {
   "cell_type": "code",
   "execution_count": 14,
   "metadata": {
    "collapsed": true
   },
   "outputs": [],
   "source": [
    "cnn_val_train_x = []\n",
    "cnn_val_test_x = []\n",
    "\n",
    "def cnn_validation_data(size):\n",
    "    for j in range(0, len(val_train_x)):\n",
    "        image_resized = resize(val_train_x[j], (size, size, 3))\n",
    "        cnn_val_train_x.append(image_resized)\n",
    "\n",
    "    for j in range(0, len(val_test_x)):\n",
    "        image_resized = resize(val_test_x[j], (size, size, 3))\n",
    "        cnn_val_test_x.append(image_resized)\n",
    "\n",
    "cnn_validation_data(40)"
   ]
  },
  {
   "cell_type": "code",
   "execution_count": 373,
   "metadata": {
    "collapsed": false
   },
   "outputs": [
    {
     "name": "stdout",
     "output_type": "stream",
     "text": [
      "Train on 1152 samples, validate on 288 samples\n",
      "Epoch 1/10\n",
      "1120/1152 [============================>.] - ETA: 0s - loss: 1.7745 - acc: 0.1875Epoch 00000: val_loss improved from inf to 1.76820, saving model to saved_model/weights.best.own_cnn_resize.hdf5\n",
      "1152/1152 [==============================] - 22s - loss: 1.7761 - acc: 0.1866 - val_loss: 1.7682 - val_acc: 0.1701\n",
      "Epoch 2/10\n",
      "1120/1152 [============================>.] - ETA: 0s - loss: 1.7091 - acc: 0.2839Epoch 00001: val_loss improved from 1.76820 to 1.59359, saving model to saved_model/weights.best.own_cnn_resize.hdf5\n",
      "1152/1152 [==============================] - 17s - loss: 1.7139 - acc: 0.2812 - val_loss: 1.5936 - val_acc: 0.2604\n",
      "Epoch 3/10\n",
      "1120/1152 [============================>.] - ETA: 0s - loss: 1.5712 - acc: 0.3438Epoch 00002: val_loss improved from 1.59359 to 1.38201, saving model to saved_model/weights.best.own_cnn_resize.hdf5\n",
      "1152/1152 [==============================] - 18s - loss: 1.5683 - acc: 0.3446 - val_loss: 1.3820 - val_acc: 0.3819\n",
      "Epoch 4/10\n",
      "1120/1152 [============================>.] - ETA: 0s - loss: 1.5093 - acc: 0.3750Epoch 00003: val_loss did not improve\n",
      "1152/1152 [==============================] - 18s - loss: 1.5187 - acc: 0.3750 - val_loss: 1.8384 - val_acc: 0.2639\n",
      "Epoch 5/10\n",
      "1120/1152 [============================>.] - ETA: 0s - loss: 1.5138 - acc: 0.4027Epoch 00004: val_loss did not improve\n",
      "1152/1152 [==============================] - 16s - loss: 1.5086 - acc: 0.4036 - val_loss: 1.4484 - val_acc: 0.4167\n",
      "Epoch 6/10\n",
      "1120/1152 [============================>.] - ETA: 0s - loss: 1.5109 - acc: 0.4071Epoch 00005: val_loss did not improve\n",
      "1152/1152 [==============================] - 17s - loss: 1.5260 - acc: 0.4019 - val_loss: 1.4439 - val_acc: 0.4375\n",
      "Epoch 7/10\n",
      "1120/1152 [============================>.] - ETA: 0s - loss: 1.3283 - acc: 0.4607Epoch 00006: val_loss did not improve\n",
      "1152/1152 [==============================] - 18s - loss: 1.3268 - acc: 0.4609 - val_loss: 1.3985 - val_acc: 0.4271\n",
      "Epoch 8/10\n",
      "1120/1152 [============================>.] - ETA: 0s - loss: 1.4281 - acc: 0.4304Epoch 00007: val_loss improved from 1.38201 to 1.20744, saving model to saved_model/weights.best.own_cnn_resize.hdf5\n",
      "1152/1152 [==============================] - 16s - loss: 1.4256 - acc: 0.4332 - val_loss: 1.2074 - val_acc: 0.4688\n",
      "Epoch 9/10\n",
      "1120/1152 [============================>.] - ETA: 0s - loss: 1.5028 - acc: 0.4339Epoch 00008: val_loss improved from 1.20744 to 1.15700, saving model to saved_model/weights.best.own_cnn_resize.hdf5\n",
      "1152/1152 [==============================] - 19s - loss: 1.4936 - acc: 0.4358 - val_loss: 1.1570 - val_acc: 0.4792\n",
      "Epoch 10/10\n",
      "1120/1152 [============================>.] - ETA: 0s - loss: 1.2741 - acc: 0.4652Epoch 00009: val_loss did not improve\n",
      "1152/1152 [==============================] - 18s - loss: 1.2697 - acc: 0.4679 - val_loss: 1.2321 - val_acc: 0.4062\n"
     ]
    },
    {
     "data": {
      "text/plain": [
       "<keras.callbacks.History at 0x1a3cc9d7b00>"
      ]
     },
     "execution_count": 373,
     "metadata": {},
     "output_type": "execute_result"
    }
   ],
   "source": [
    "cnn_model.fit(np.array(cnn_val_train_x), np.array(val_train_y), \n",
    "          validation_data=(np.array(cnn_val_test_x), np.array(val_test_y)),\n",
    "          epochs=10, batch_size=32, callbacks=[checkpointer], verbose=1)"
   ]
  },
  {
   "cell_type": "code",
   "execution_count": 50,
   "metadata": {
    "collapsed": true
   },
   "outputs": [],
   "source": [
    "cnn_test_x = []\n",
    "for i in range(0, len(X_test)):\n",
    "    image_resized = resize(X_test[i], (40, 40, 3))\n",
    "    cnn_test_x.append(image_resized)"
   ]
  },
  {
   "cell_type": "code",
   "execution_count": 375,
   "metadata": {
    "collapsed": false
   },
   "outputs": [
    {
     "name": "stdout",
     "output_type": "stream",
     "text": [
      "Test accuracy: 40.0000%\n"
     ]
    }
   ],
   "source": [
    "cnn_model.save_weights(\"saved_model/weights.best.own_cnn_resize.hdf5\")\n",
    "\n",
    "predictions = [np.argmax(cnn_model.predict(np.expand_dims(feature, axis=0))) for feature in cnn_test_x]\n",
    "\n",
    "test_accuracy = 100*np.sum(np.array(predictions)==np.argmax(y_test, axis=1))/len(predictions)\n",
    "print('Test accuracy: %.4f%%' % test_accuracy)"
   ]
  },
  {
   "cell_type": "code",
   "execution_count": 16,
   "metadata": {
    "collapsed": false
   },
   "outputs": [],
   "source": [
    "test_model = Sequential()\n",
    "\n",
    "test_model.add(Conv2D(filters = 128, kernel_size = (3,3), input_shape = (40, 40, 3)))\n",
    "test_model.add(Activation(\"relu\"))\n",
    "test_model.add(MaxPooling2D(pool_size=(2, 2), strides=(2,2), padding='same'))\n",
    "\n",
    "test_model.add(Conv2D(filters = 64, kernel_size = (3,3)))\n",
    "test_model.add(Activation(\"relu\"))\n",
    "test_model.add(MaxPooling2D(pool_size=(2, 2), strides=(2,2), padding='same'))\n",
    "\n",
    "test_model.add(Conv2D(filters = 32, kernel_size = (3,3)))\n",
    "test_model.add(Activation(\"relu\"))\n",
    "test_model.add(MaxPooling2D(pool_size=(2, 2), strides=(2,2), padding='same'))\n",
    "\n",
    "test_model.add(GlobalAveragePooling2D())\n",
    "test_model.add(Dense(1024, activation='relu'))\n",
    "test_model.add(Dropout(0.2))\n",
    "\n",
    "test_model.add(Dense(6))\n",
    "test_model.add(Activation(\"softmax\"))\n"
   ]
  },
  {
   "cell_type": "code",
   "execution_count": 17,
   "metadata": {
    "collapsed": true
   },
   "outputs": [],
   "source": [
    "from keras.callbacks import ModelCheckpoint\n",
    "\n",
    "test_model.compile(loss='categorical_crossentropy', optimizer='rmsprop', metrics=['accuracy'])\n",
    "checkpointer = ModelCheckpoint(filepath='saved_model/weights.best.own_cnn_test.hdf5', \n",
    "                               verbose=1, save_best_only=True)"
   ]
  },
  {
   "cell_type": "code",
   "execution_count": 377,
   "metadata": {
    "collapsed": false
   },
   "outputs": [
    {
     "name": "stdout",
     "output_type": "stream",
     "text": [
      "Epoch 1/10\n",
      "35/36 [============================>.] - ETA: 0s - loss: 1.7709 - acc: 0.1946Epoch 00000: val_loss improved from inf to 3.31720, saving model to saved_model/weights.best.own_cnn_test.hdf5\n",
      "36/36 [==============================] - 24s - loss: 1.7677 - acc: 0.1988 - val_loss: 3.3172 - val_acc: 0.1701\n",
      "Epoch 2/10\n",
      "35/36 [============================>.] - ETA: 0s - loss: 1.7388 - acc: 0.2893Epoch 00001: val_loss improved from 3.31720 to 2.03012, saving model to saved_model/weights.best.own_cnn_test.hdf5\n",
      "36/36 [==============================] - 17s - loss: 1.7331 - acc: 0.2951 - val_loss: 2.0301 - val_acc: 0.1701\n",
      "Epoch 3/10\n",
      "35/36 [============================>.] - ETA: 0s - loss: 1.6767 - acc: 0.3196Epoch 00002: val_loss improved from 2.03012 to 1.56798, saving model to saved_model/weights.best.own_cnn_test.hdf5\n",
      "36/36 [==============================] - 17s - loss: 1.6761 - acc: 0.3160 - val_loss: 1.5680 - val_acc: 0.3368\n",
      "Epoch 4/10\n",
      "35/36 [============================>.] - ETA: 0s - loss: 1.4754 - acc: 0.4143Epoch 00003: val_loss improved from 1.56798 to 1.41051, saving model to saved_model/weights.best.own_cnn_test.hdf5\n",
      "36/36 [==============================] - 18s - loss: 1.4725 - acc: 0.4175 - val_loss: 1.4105 - val_acc: 0.3924\n",
      "Epoch 5/10\n",
      "35/36 [============================>.] - ETA: 0s - loss: 1.3414 - acc: 0.4821Epoch 00004: val_loss improved from 1.41051 to 1.23354, saving model to saved_model/weights.best.own_cnn_test.hdf5\n",
      "36/36 [==============================] - 17s - loss: 1.3493 - acc: 0.4740 - val_loss: 1.2335 - val_acc: 0.6458\n",
      "Epoch 6/10\n",
      "35/36 [============================>.] - ETA: 0s - loss: 1.2281 - acc: 0.5036Epoch 00005: val_loss improved from 1.23354 to 1.21326, saving model to saved_model/weights.best.own_cnn_test.hdf5\n",
      "36/36 [==============================] - 17s - loss: 1.2457 - acc: 0.4957 - val_loss: 1.2133 - val_acc: 0.4861\n",
      "Epoch 7/10\n",
      "35/36 [============================>.] - ETA: 0s - loss: 1.2556 - acc: 0.4982Epoch 00006: val_loss did not improve\n",
      "36/36 [==============================] - 17s - loss: 1.2537 - acc: 0.4991 - val_loss: 1.4316 - val_acc: 0.4167\n",
      "Epoch 8/10\n",
      "35/36 [============================>.] - ETA: 0s - loss: 1.2012 - acc: 0.5304Epoch 00007: val_loss improved from 1.21326 to 1.03648, saving model to saved_model/weights.best.own_cnn_test.hdf5\n",
      "36/36 [==============================] - 18s - loss: 1.1983 - acc: 0.5312 - val_loss: 1.0365 - val_acc: 0.5556\n",
      "Epoch 9/10\n",
      "35/36 [============================>.] - ETA: 0s - loss: 1.1699 - acc: 0.5277Epoch 00008: val_loss did not improve\n",
      "36/36 [==============================] - 19s - loss: 1.1740 - acc: 0.5234 - val_loss: 1.0808 - val_acc: 0.5243\n",
      "Epoch 10/10\n",
      "35/36 [============================>.] - ETA: 0s - loss: 1.1049 - acc: 0.5571Epoch 00009: val_loss improved from 1.03648 to 0.99489, saving model to saved_model/weights.best.own_cnn_test.hdf5\n",
      "36/36 [==============================] - 18s - loss: 1.1068 - acc: 0.5547 - val_loss: 0.9949 - val_acc: 0.7049\n"
     ]
    },
    {
     "data": {
      "text/plain": [
       "<keras.callbacks.History at 0x1a3d20016d8>"
      ]
     },
     "execution_count": 377,
     "metadata": {},
     "output_type": "execute_result"
    }
   ],
   "source": [
    "from keras.preprocessing.image import ImageDataGenerator\n",
    "\n",
    "datagen = ImageDataGenerator(\n",
    "    rotation_range=40,\n",
    "    width_shift_range=0.2,\n",
    "    height_shift_range=0.2,\n",
    "    horizontal_flip=True,\n",
    "    fill_mode='nearest')\n",
    "\n",
    "datagen.fit(np.array(cnn_val_train_x))\n",
    "\n",
    "test_model.fit_generator(datagen.flow(np.array(cnn_val_train_x), np.array(val_train_y), batch_size=32),\n",
    "                    validation_data=(np.array(cnn_val_test_x), np.array(val_test_y)),\n",
    "                    steps_per_epoch=np.array(cnn_val_train_x).shape[0]/32, epochs=10, callbacks=[checkpointer], verbose=1)"
   ]
  },
  {
   "cell_type": "code",
   "execution_count": 378,
   "metadata": {
    "collapsed": false
   },
   "outputs": [
    {
     "name": "stdout",
     "output_type": "stream",
     "text": [
      "Test accuracy: 69.1667%\n"
     ]
    }
   ],
   "source": [
    "test_model.save_weights(\"saved_model/weights.best.own_cnn_test.hdf5\")\n",
    "\n",
    "predictions = [np.argmax(test_model.predict(np.expand_dims(feature, axis=0))) for feature in cnn_test_x]\n",
    "\n",
    "test_accuracy = 100*np.sum(np.array(predictions)==np.argmax(y_test, axis=1))/len(predictions)\n",
    "print('Test accuracy: %.4f%%' % test_accuracy)"
   ]
  },
  {
   "cell_type": "code",
   "execution_count": 18,
   "metadata": {
    "collapsed": false
   },
   "outputs": [
    {
     "name": "stdout",
     "output_type": "stream",
     "text": [
      "There are 1440 training defect images.\n",
      "There are 360 testing defect images.\n"
     ]
    }
   ],
   "source": [
    "all_gray_images = []\n",
    "for file in all_files:\n",
    "    img = cv2.imread(file, cv2.IMREAD_GRAYSCALE)\n",
    "    all_gray_images.append(img)\n",
    "\n",
    "X_gray_train, X_gray_test, y_gray_train, y_gray_test = train_test_split(all_gray_images, all_targets, test_size=0.2, random_state=42)\n",
    "print('There are %d training defect images.' % len(X_gray_train))\n",
    "print('There are %d testing defect images.' % len(X_gray_test))"
   ]
  },
  {
   "cell_type": "code",
   "execution_count": 319,
   "metadata": {
    "collapsed": false
   },
   "outputs": [],
   "source": [
    "'''\n",
    "for i in range(0, len(X_gray_train)):\n",
    "    oneAvgPI =np.mean(X_gray_train[i])\n",
    "    coff = float(avgPI) / float(oneAvgPI)\n",
    "    X_gray_train[i] = X_gray_train[i] * coff    \n",
    "\n",
    "for i in range(0, len(X_gray_test)):\n",
    "    oneAvgPI =np.mean(X_gray_test[i])\n",
    "    coff = float(avgPI) / float(oneAvgPI)\n",
    "    X_gray_test[i] = X_gray_test[i] * coff \n",
    "'''"
   ]
  },
  {
   "cell_type": "code",
   "execution_count": 19,
   "metadata": {
    "collapsed": false
   },
   "outputs": [],
   "source": [
    "cnn_val_train_gray_x = []\n",
    "cnn_val_train_gray_y = []\n",
    "cnn_val_test_gray_x = []\n",
    "cnn_val_test_gray_y = []\n",
    "\n",
    "def cnn_validation_data(k, size):\n",
    "    for i in range(0, len(X_gray_train)):\n",
    "        img = resize(X_gray_train[i], (size, size))\n",
    "        img = np.reshape(img, (size, size, 1))\n",
    "        if (i % k) == 0:\n",
    "            cnn_val_test_gray_x.append(img)\n",
    "            cnn_val_test_gray_y.append(y_gray_train[i])\n",
    "        else:\n",
    "            cnn_val_train_gray_x.append(img)\n",
    "            cnn_val_train_gray_y.append(y_gray_train[i])\n",
    "\n",
    "cnn_validation_data(5, 40)"
   ]
  },
  {
   "cell_type": "code",
   "execution_count": 20,
   "metadata": {
    "collapsed": false
   },
   "outputs": [],
   "source": [
    "test_gray_model = Sequential()\n",
    "\n",
    "test_gray_model.add(Conv2D(filters = 128, kernel_size = (3,3), input_shape = (40, 40, 1)))\n",
    "test_gray_model.add(Activation(\"relu\"))\n",
    "test_gray_model.add(MaxPooling2D(pool_size=(2, 2), strides=(2,2), padding='same'))\n",
    "\n",
    "test_gray_model.add(Conv2D(filters = 64, kernel_size = (3,3)))\n",
    "test_gray_model.add(Activation(\"relu\"))\n",
    "test_gray_model.add(MaxPooling2D(pool_size=(2, 2), strides=(2,2), padding='same'))\n",
    "\n",
    "test_gray_model.add(Conv2D(filters = 32, kernel_size = (3,3)))\n",
    "test_gray_model.add(Activation(\"relu\"))\n",
    "test_gray_model.add(MaxPooling2D(pool_size=(2, 2), strides=(2,2), padding='same'))\n",
    "\n",
    "test_gray_model.add(GlobalAveragePooling2D())\n",
    "test_gray_model.add(Dense(1024, activation='relu'))\n",
    "test_gray_model.add(Dropout(0.2))\n",
    "\n",
    "test_gray_model.add(Dense(6))\n",
    "test_gray_model.add(Activation(\"softmax\"))\n",
    "    \n",
    "test_gray_model.compile(loss='categorical_crossentropy', optimizer='rmsprop', metrics=['accuracy'])\n",
    "checkpointer = ModelCheckpoint(filepath='saved_model/weights.best.own_cnn_gray.hdf5', \n",
    "                               verbose=1, save_best_only=True)"
   ]
  },
  {
   "cell_type": "code",
   "execution_count": 349,
   "metadata": {
    "collapsed": false
   },
   "outputs": [
    {
     "name": "stdout",
     "output_type": "stream",
     "text": [
      "Train on 1152 samples, validate on 288 samples\n",
      "Epoch 1/10\n",
      "1120/1152 [============================>.] - ETA: 0s - loss: 1.7655 - acc: 0.2062Epoch 00000: val_loss improved from inf to 1.74096, saving model to saved_model/weights.best.own_cnn_gray.hdf5\n",
      "1152/1152 [==============================] - 20s - loss: 1.7623 - acc: 0.2075 - val_loss: 1.7410 - val_acc: 0.1771\n",
      "Epoch 2/10\n",
      "1120/1152 [============================>.] - ETA: 0s - loss: 1.6552 - acc: 0.3241Epoch 00001: val_loss improved from 1.74096 to 1.42663, saving model to saved_model/weights.best.own_cnn_gray.hdf5\n",
      "1152/1152 [==============================] - 15s - loss: 1.6507 - acc: 0.3281 - val_loss: 1.4266 - val_acc: 0.4688\n",
      "Epoch 3/10\n",
      "1120/1152 [============================>.] - ETA: 0s - loss: 1.4434 - acc: 0.4402Epoch 00002: val_loss improved from 1.42663 to 1.27880, saving model to saved_model/weights.best.own_cnn_gray.hdf5\n",
      "1152/1152 [==============================] - 19s - loss: 1.4399 - acc: 0.4418 - val_loss: 1.2788 - val_acc: 0.5174\n",
      "Epoch 4/10\n",
      "1120/1152 [============================>.] - ETA: 0s - loss: 1.3534 - acc: 0.4670Epoch 00003: val_loss improved from 1.27880 to 1.25796, saving model to saved_model/weights.best.own_cnn_gray.hdf5\n",
      "1152/1152 [==============================] - 19s - loss: 1.3535 - acc: 0.4661 - val_loss: 1.2580 - val_acc: 0.4826\n",
      "Epoch 5/10\n",
      "1120/1152 [============================>.] - ETA: 0s - loss: 1.2237 - acc: 0.5429Epoch 00004: val_loss did not improve\n",
      "1152/1152 [==============================] - 21s - loss: 1.2372 - acc: 0.5382 - val_loss: 1.4601 - val_acc: 0.4271\n",
      "Epoch 6/10\n",
      "1120/1152 [============================>.] - ETA: 0s - loss: 1.1380 - acc: 0.5464Epoch 00005: val_loss did not improve\n",
      "1152/1152 [==============================] - 28s - loss: 1.1308 - acc: 0.5512 - val_loss: 1.3414 - val_acc: 0.3681\n",
      "Epoch 7/10\n",
      "1120/1152 [============================>.] - ETA: 0s - loss: 1.1210 - acc: 0.5625Epoch 00006: val_loss improved from 1.25796 to 0.98255, saving model to saved_model/weights.best.own_cnn_gray.hdf5\n",
      "1152/1152 [==============================] - 19s - loss: 1.1060 - acc: 0.5712 - val_loss: 0.9826 - val_acc: 0.5694\n",
      "Epoch 8/10\n",
      "1120/1152 [============================>.] - ETA: 0s - loss: 1.0227 - acc: 0.6170Epoch 00007: val_loss did not improve\n",
      "1152/1152 [==============================] - 19s - loss: 1.0425 - acc: 0.6085 - val_loss: 1.9318 - val_acc: 0.3056\n",
      "Epoch 9/10\n",
      "1120/1152 [============================>.] - ETA: 0s - loss: 0.9837 - acc: 0.6286Epoch 00008: val_loss did not improve\n",
      "1152/1152 [==============================] - 20s - loss: 0.9885 - acc: 0.6276 - val_loss: 1.2786 - val_acc: 0.4965\n",
      "Epoch 10/10\n",
      "1120/1152 [============================>.] - ETA: 0s - loss: 0.9836 - acc: 0.6304Epoch 00009: val_loss improved from 0.98255 to 0.89940, saving model to saved_model/weights.best.own_cnn_gray.hdf5\n",
      "1152/1152 [==============================] - 18s - loss: 0.9814 - acc: 0.6302 - val_loss: 0.8994 - val_acc: 0.6528\n"
     ]
    },
    {
     "data": {
      "text/plain": [
       "<keras.callbacks.History at 0x1a3a77c0198>"
      ]
     },
     "execution_count": 349,
     "metadata": {},
     "output_type": "execute_result"
    }
   ],
   "source": [
    "test_gray_model.fit(np.array(cnn_val_train_gray_x), np.array(cnn_val_train_gray_y), \n",
    "          validation_data=(np.array(cnn_val_test_gray_x), np.array(cnn_val_test_gray_y)),\n",
    "          epochs=10, batch_size=32, callbacks=[checkpointer], verbose=1)"
   ]
  },
  {
   "cell_type": "code",
   "execution_count": 24,
   "metadata": {
    "collapsed": false
   },
   "outputs": [
    {
     "name": "stdout",
     "output_type": "stream",
     "text": [
      "Epoch 1/25\n",
      "35/36 [============================>.] - ETA: 0s - loss: 1.7599 - acc: 0.2018Epoch 00000: val_loss improved from inf to 1.71195, saving model to saved_model/weights.best.own_cnn_gray.hdf5\n",
      "36/36 [==============================] - 17s - loss: 1.7581 - acc: 0.2057 - val_loss: 1.7119 - val_acc: 0.2118\n",
      "Epoch 2/25\n",
      "35/36 [============================>.] - ETA: 0s - loss: 1.5839 - acc: 0.3473Epoch 00001: val_loss improved from 1.71195 to 1.52097, saving model to saved_model/weights.best.own_cnn_gray.hdf5\n",
      "36/36 [==============================] - 14s - loss: 1.5831 - acc: 0.3490 - val_loss: 1.5210 - val_acc: 0.3854\n",
      "Epoch 3/25\n",
      "35/36 [============================>.] - ETA: 0s - loss: 1.4386 - acc: 0.4562Epoch 00002: val_loss improved from 1.52097 to 1.29063, saving model to saved_model/weights.best.own_cnn_gray.hdf5\n",
      "36/36 [==============================] - 15s - loss: 1.4277 - acc: 0.4627 - val_loss: 1.2906 - val_acc: 0.4931\n",
      "Epoch 4/25\n",
      "35/36 [============================>.] - ETA: 0s - loss: 1.3089 - acc: 0.4893Epoch 00003: val_loss improved from 1.29063 to 1.19954, saving model to saved_model/weights.best.own_cnn_gray.hdf5\n",
      "36/36 [==============================] - 16s - loss: 1.3044 - acc: 0.4905 - val_loss: 1.1995 - val_acc: 0.5764\n",
      "Epoch 5/25\n",
      "35/36 [============================>.] - ETA: 0s - loss: 1.1718 - acc: 0.5437Epoch 00004: val_loss did not improve\n",
      "36/36 [==============================] - 17s - loss: 1.1727 - acc: 0.5434 - val_loss: 1.3464 - val_acc: 0.4722\n",
      "Epoch 6/25\n",
      "35/36 [============================>.] - ETA: 0s - loss: 1.1404 - acc: 0.5670Epoch 00005: val_loss improved from 1.19954 to 0.90056, saving model to saved_model/weights.best.own_cnn_gray.hdf5\n",
      "36/36 [==============================] - 20s - loss: 1.1396 - acc: 0.5686 - val_loss: 0.9006 - val_acc: 0.6875\n",
      "Epoch 7/25\n",
      "35/36 [============================>.] - ETA: 0s - loss: 1.0656 - acc: 0.5964Epoch 00006: val_loss improved from 0.90056 to 0.85690, saving model to saved_model/weights.best.own_cnn_gray.hdf5\n",
      "36/36 [==============================] - 19s - loss: 1.0585 - acc: 0.5990 - val_loss: 0.8569 - val_acc: 0.7049\n",
      "Epoch 8/25\n",
      "35/36 [============================>.] - ETA: 0s - loss: 0.9980 - acc: 0.6188Epoch 00007: val_loss improved from 0.85690 to 0.75935, saving model to saved_model/weights.best.own_cnn_gray.hdf5\n",
      "36/36 [==============================] - 23s - loss: 1.0109 - acc: 0.6155 - val_loss: 0.7593 - val_acc: 0.7639\n",
      "Epoch 9/25\n",
      "35/36 [============================>.] - ETA: 0s - loss: 0.8887 - acc: 0.6625Epoch 00008: val_loss improved from 0.75935 to 0.75481, saving model to saved_model/weights.best.own_cnn_gray.hdf5\n",
      "36/36 [==============================] - 20s - loss: 0.8896 - acc: 0.6606 - val_loss: 0.7548 - val_acc: 0.7847\n",
      "Epoch 10/25\n",
      "35/36 [============================>.] - ETA: 0s - loss: 0.8969 - acc: 0.6893Epoch 00009: val_loss improved from 0.75481 to 0.56652, saving model to saved_model/weights.best.own_cnn_gray.hdf5\n",
      "36/36 [==============================] - 21s - loss: 0.8892 - acc: 0.6927 - val_loss: 0.5665 - val_acc: 0.8368\n",
      "Epoch 11/25\n",
      "35/36 [============================>.] - ETA: 0s - loss: 0.8580 - acc: 0.7027Epoch 00010: val_loss did not improve\n",
      "36/36 [==============================] - 17s - loss: 0.8649 - acc: 0.7014 - val_loss: 0.6700 - val_acc: 0.7465\n",
      "Epoch 12/25\n",
      "35/36 [============================>.] - ETA: 0s - loss: 0.8501 - acc: 0.7214Epoch 00011: val_loss improved from 0.56652 to 0.55777, saving model to saved_model/weights.best.own_cnn_gray.hdf5\n",
      "36/36 [==============================] - 15s - loss: 0.8494 - acc: 0.7179 - val_loss: 0.5578 - val_acc: 0.8611\n",
      "Epoch 13/25\n",
      "35/36 [============================>.] - ETA: 0s - loss: 0.8321 - acc: 0.7277Epoch 00012: val_loss did not improve\n",
      "36/36 [==============================] - 15s - loss: 0.8270 - acc: 0.7266 - val_loss: 0.6070 - val_acc: 0.8056\n",
      "Epoch 14/25\n",
      "35/36 [============================>.] - ETA: 0s - loss: 0.7536 - acc: 0.7455Epoch 00013: val_loss did not improve\n",
      "36/36 [==============================] - 16s - loss: 0.7706 - acc: 0.7387 - val_loss: 1.1100 - val_acc: 0.5590\n",
      "Epoch 15/25\n",
      "35/36 [============================>.] - ETA: 0s - loss: 0.7963 - acc: 0.7286Epoch 00014: val_loss improved from 0.55777 to 0.55710, saving model to saved_model/weights.best.own_cnn_gray.hdf5\n",
      "36/36 [==============================] - 16s - loss: 0.7892 - acc: 0.7318 - val_loss: 0.5571 - val_acc: 0.7986\n",
      "Epoch 16/25\n",
      "35/36 [============================>.] - ETA: 0s - loss: 0.7197 - acc: 0.7348Epoch 00015: val_loss improved from 0.55710 to 0.55401, saving model to saved_model/weights.best.own_cnn_gray.hdf5\n",
      "36/36 [==============================] - 15s - loss: 0.7175 - acc: 0.7361 - val_loss: 0.5540 - val_acc: 0.7951\n",
      "Epoch 17/25\n",
      "35/36 [============================>.] - ETA: 0s - loss: 0.6934 - acc: 0.7580Epoch 00016: val_loss improved from 0.55401 to 0.46615, saving model to saved_model/weights.best.own_cnn_gray.hdf5\n",
      "36/36 [==============================] - 15s - loss: 0.6844 - acc: 0.7630 - val_loss: 0.4661 - val_acc: 0.8194\n",
      "Epoch 18/25\n",
      "35/36 [============================>.] - ETA: 0s - loss: 0.8335 - acc: 0.7312Epoch 00017: val_loss did not improve\n",
      "36/36 [==============================] - 16s - loss: 0.8498 - acc: 0.7257 - val_loss: 0.7138 - val_acc: 0.6771\n",
      "Epoch 19/25\n",
      "35/36 [============================>.] - ETA: 0s - loss: 0.7181 - acc: 0.7250Epoch 00018: val_loss did not improve\n",
      "36/36 [==============================] - 16s - loss: 0.7265 - acc: 0.7205 - val_loss: 0.7427 - val_acc: 0.6458\n",
      "Epoch 20/25\n",
      "35/36 [============================>.] - ETA: 0s - loss: 0.5957 - acc: 0.8045Epoch 00019: val_loss did not improve\n",
      "36/36 [==============================] - 15s - loss: 0.6016 - acc: 0.8003 - val_loss: 1.0324 - val_acc: 0.6215\n",
      "Epoch 21/25\n",
      "35/36 [============================>.] - ETA: 0s - loss: 0.6862 - acc: 0.7420Epoch 00020: val_loss did not improve\n",
      "36/36 [==============================] - 16s - loss: 0.6962 - acc: 0.7378 - val_loss: 1.1699 - val_acc: 0.5312\n",
      "Epoch 22/25\n",
      "35/36 [============================>.] - ETA: 0s - loss: 0.6199 - acc: 0.7723Epoch 00021: val_loss improved from 0.46615 to 0.41400, saving model to saved_model/weights.best.own_cnn_gray.hdf5\n",
      "36/36 [==============================] - 17s - loss: 0.6269 - acc: 0.7691 - val_loss: 0.4140 - val_acc: 0.8542\n",
      "Epoch 23/25\n",
      "35/36 [============================>.] - ETA: 0s - loss: 0.6455 - acc: 0.7768Epoch 00022: val_loss improved from 0.41400 to 0.37307, saving model to saved_model/weights.best.own_cnn_gray.hdf5\n",
      "36/36 [==============================] - 15s - loss: 0.6363 - acc: 0.7795 - val_loss: 0.3731 - val_acc: 0.8924\n",
      "Epoch 24/25\n",
      "35/36 [============================>.] - ETA: 0s - loss: 0.6406 - acc: 0.7705Epoch 00023: val_loss improved from 0.37307 to 0.32981, saving model to saved_model/weights.best.own_cnn_gray.hdf5\n",
      "36/36 [==============================] - 15s - loss: 0.6338 - acc: 0.7726 - val_loss: 0.3298 - val_acc: 0.9028\n",
      "Epoch 25/25\n",
      "35/36 [============================>.] - ETA: 0s - loss: 0.6663 - acc: 0.7554Epoch 00024: val_loss did not improve\n",
      "36/36 [==============================] - 15s - loss: 0.6665 - acc: 0.7552 - val_loss: 0.4845 - val_acc: 0.8229\n"
     ]
    },
    {
     "data": {
      "text/plain": [
       "<keras.callbacks.History at 0x1e8923edeb8>"
      ]
     },
     "execution_count": 24,
     "metadata": {},
     "output_type": "execute_result"
    }
   ],
   "source": [
    "from keras.preprocessing.image import ImageDataGenerator\n",
    "\n",
    "datagen = ImageDataGenerator(\n",
    "    rotation_range=40,\n",
    "    width_shift_range=0.2,\n",
    "    height_shift_range=0.2,\n",
    "    horizontal_flip=True,\n",
    "    fill_mode='nearest')\n",
    "\n",
    "datagen.fit(np.array(cnn_val_train_gray_x))\n",
    "\n",
    "test_gray_model.fit_generator(datagen.flow(np.array(cnn_val_train_gray_x), np.array(cnn_val_train_gray_y), batch_size=32),\n",
    "                    validation_data=(np.array(cnn_val_test_gray_x), np.array(cnn_val_test_gray_y)),\n",
    "                    steps_per_epoch=np.array(cnn_val_train_gray_x).shape[0]/32, epochs=25, callbacks=[checkpointer], verbose=1)"
   ]
  },
  {
   "cell_type": "code",
   "execution_count": 21,
   "metadata": {
    "collapsed": false
   },
   "outputs": [],
   "source": [
    "for i in range(0, len(X_gray_test)):\n",
    "    X_gray_test[i] = resize(X_gray_test[i], (40, 40))\n",
    "    X_gray_test[i] = np.reshape(X_gray_test[i], (40, 40, 1))"
   ]
  },
  {
   "cell_type": "code",
   "execution_count": 25,
   "metadata": {
    "collapsed": false
   },
   "outputs": [
    {
     "name": "stdout",
     "output_type": "stream",
     "text": [
      "Test accuracy: 84.1667%\n"
     ]
    }
   ],
   "source": [
    "test_gray_model.save_weights(\"saved_model/weights.best.own_cnn_gray.hdf5\")\n",
    "\n",
    "predictions = [np.argmax(test_gray_model.predict(np.expand_dims(feature, axis=0))) for feature in X_gray_test]\n",
    "\n",
    "test_accuracy = 100*np.sum(np.array(predictions)==np.argmax(y_gray_test, axis=1))/len(predictions)\n",
    "print('Test accuracy: %.4f%%' % test_accuracy)"
   ]
  },
  {
   "cell_type": "code",
   "execution_count": 31,
   "metadata": {
    "collapsed": false
   },
   "outputs": [
    {
     "name": "stdout",
     "output_type": "stream",
     "text": [
      "[[43  0  0  0 16  0]\n",
      " [ 0 54  7  0  1  0]\n",
      " [ 1 14 39  0  2  0]\n",
      " [ 1  0  0 62  0  0]\n",
      " [ 0  4  1  0 51  0]\n",
      " [ 0  6  2  0  2 54]]\n"
     ]
    }
   ],
   "source": [
    "pred_array = np.full((6, 6), 0)\n",
    "for i in range(0, len(predictions)):\n",
    "    #print('i = ', i, ', predictions = ', predictions[i], ', label = ', np.argmax(y_gray_test[i]))\n",
    "    pred_array[np.argmax(y_gray_test[i])][predictions[i]] = pred_array[np.argmax(y_gray_test[i])][predictions[i]] + 1\n",
    "print(pred_array)"
   ]
  },
  {
   "cell_type": "code",
   "execution_count": 30,
   "metadata": {
    "collapsed": false
   },
   "outputs": [
    {
     "name": "stdout",
     "output_type": "stream",
     "text": [
      "label =  0 , prediction =  0\n",
      "label =  0 , prediction =  4\n",
      "label =  1 , prediction =  1\n",
      "label =  1 , prediction =  2\n",
      "label =  1 , prediction =  4\n",
      "label =  2 , prediction =  0\n",
      "label =  2 , prediction =  1\n",
      "label =  2 , prediction =  2\n",
      "label =  2 , prediction =  4\n",
      "label =  3 , prediction =  0\n",
      "label =  3 , prediction =  3\n",
      "label =  4 , prediction =  1\n",
      "label =  4 , prediction =  2\n",
      "label =  4 , prediction =  4\n",
      "label =  5 , prediction =  1\n",
      "label =  5 , prediction =  2\n",
      "label =  5 , prediction =  4\n",
      "label =  5 , prediction =  5\n"
     ]
    }
   ],
   "source": [
    "for i in range(0, 6):\n",
    "    for j in range(0, 6):\n",
    "        for k in range(0, len(X_gray_test)):\n",
    "            if np.argmax(y_test[k]) == i and predictions[k] == j:\n",
    "                print('label = ', str(i), ', prediction = ', str(j))\n",
    "                cv2.imshow('image', X_gray_test[k])\n",
    "                cv2.waitKey(0)\n",
    "                cv2.imwrite(str(i) + str(j) + '_1.png', X_gray_test[k])\n",
    "                cv2.destroyAllWindows()\n",
    "                break"
   ]
  },
  {
   "cell_type": "code",
   "execution_count": null,
   "metadata": {
    "collapsed": true
   },
   "outputs": [],
   "source": []
  }
 ],
 "metadata": {
  "anaconda-cloud": {},
  "kernelspec": {
   "display_name": "Python [default]",
   "language": "python",
   "name": "python3"
  },
  "language_info": {
   "codemirror_mode": {
    "name": "ipython",
    "version": 3
   },
   "file_extension": ".py",
   "mimetype": "text/x-python",
   "name": "python",
   "nbconvert_exporter": "python",
   "pygments_lexer": "ipython3",
   "version": "3.5.2"
  }
 },
 "nbformat": 4,
 "nbformat_minor": 1
}
